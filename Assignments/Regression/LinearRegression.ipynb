{
  "nbformat": 4,
  "nbformat_minor": 0,
  "metadata": {
    "colab": {
      "name": "LinearRegression.ipynb",
      "provenance": [],
      "collapsed_sections": [],
      "authorship_tag": "ABX9TyNIrS8FpHyyLyPUxibBNK2d",
      "include_colab_link": true
    },
    "kernelspec": {
      "name": "python3",
      "display_name": "Python 3"
    },
    "language_info": {
      "name": "python"
    }
  },
  "cells": [
    {
      "cell_type": "markdown",
      "metadata": {
        "id": "view-in-github",
        "colab_type": "text"
      },
      "source": [
        "<a href=\"https://colab.research.google.com/github/MyPham1207/Python_for_ML/blob/main/Assignments/Regression/LinearRegression.ipynb\" target=\"_parent\"><img src=\"https://colab.research.google.com/assets/colab-badge.svg\" alt=\"Open In Colab\"/></a>"
      ]
    },
    {
      "cell_type": "code",
      "metadata": {
        "id": "mlz0MAMgenF4",
        "colab": {
          "base_uri": "https://localhost:8080/"
        },
        "outputId": "393578c6-354f-4d76-e80a-5f02148c23a3"
      },
      "source": [
        "from google.colab import drive\n",
        "drive.mount('/content/drive', force_remount=True)\n",
        "\n",
        "from sklearn.linear_model import LinearRegression\n",
        "from sklearn.model_selection import KFold\n",
        "from sklearn.metrics import mean_squared_error\n",
        "from sklearn.preprocessing import MinMaxScaler\n",
        "\n",
        "import matplotlib.pyplot as plt\n",
        "\n",
        "import pandas as pd\n",
        "import numpy as np"
      ],
      "execution_count": 1,
      "outputs": [
        {
          "output_type": "stream",
          "name": "stdout",
          "text": [
            "Mounted at /content/drive\n"
          ]
        }
      ]
    },
    {
      "cell_type": "markdown",
      "metadata": {
        "id": "RC9bDyCHtGsu"
      },
      "source": [
        "#1. 1-Linear Regression"
      ]
    },
    {
      "cell_type": "code",
      "metadata": {
        "colab": {
          "base_uri": "https://localhost:8080/",
          "height": 204
        },
        "id": "Z4pGmxjyWoVS",
        "outputId": "8f8d8548-5db1-4c88-c3fb-2c46c2c8b51d"
      },
      "source": [
        "data = pd.read_csv('/content/drive/MyDrive/School/Python_for_ML/Assignment_8/Data/Salary_Data.csv')\n",
        "# shuffle the data just for randomness\n",
        "data = data.sample(frac=1).reset_index(drop=True)\n",
        "data.head()"
      ],
      "execution_count": 2,
      "outputs": [
        {
          "output_type": "execute_result",
          "data": {
            "text/html": [
              "<div>\n",
              "<style scoped>\n",
              "    .dataframe tbody tr th:only-of-type {\n",
              "        vertical-align: middle;\n",
              "    }\n",
              "\n",
              "    .dataframe tbody tr th {\n",
              "        vertical-align: top;\n",
              "    }\n",
              "\n",
              "    .dataframe thead th {\n",
              "        text-align: right;\n",
              "    }\n",
              "</style>\n",
              "<table border=\"1\" class=\"dataframe\">\n",
              "  <thead>\n",
              "    <tr style=\"text-align: right;\">\n",
              "      <th></th>\n",
              "      <th>YearsExperience</th>\n",
              "      <th>Salary</th>\n",
              "    </tr>\n",
              "  </thead>\n",
              "  <tbody>\n",
              "    <tr>\n",
              "      <th>0</th>\n",
              "      <td>6.0</td>\n",
              "      <td>93940.0</td>\n",
              "    </tr>\n",
              "    <tr>\n",
              "      <th>1</th>\n",
              "      <td>3.2</td>\n",
              "      <td>64445.0</td>\n",
              "    </tr>\n",
              "    <tr>\n",
              "      <th>2</th>\n",
              "      <td>3.2</td>\n",
              "      <td>54445.0</td>\n",
              "    </tr>\n",
              "    <tr>\n",
              "      <th>3</th>\n",
              "      <td>10.5</td>\n",
              "      <td>121872.0</td>\n",
              "    </tr>\n",
              "    <tr>\n",
              "      <th>4</th>\n",
              "      <td>8.2</td>\n",
              "      <td>113812.0</td>\n",
              "    </tr>\n",
              "  </tbody>\n",
              "</table>\n",
              "</div>"
            ],
            "text/plain": [
              "   YearsExperience    Salary\n",
              "0              6.0   93940.0\n",
              "1              3.2   64445.0\n",
              "2              3.2   54445.0\n",
              "3             10.5  121872.0\n",
              "4              8.2  113812.0"
            ]
          },
          "metadata": {},
          "execution_count": 2
        }
      ]
    },
    {
      "cell_type": "code",
      "metadata": {
        "id": "50OuIpLFXfhh"
      },
      "source": [
        "# Split the data\n",
        "n_splits = 5\n",
        "kf = KFold(n_splits)\n",
        "train_index = []\n",
        "test_index = []\n",
        "for train, test in kf.split(data):\n",
        "  train_index.append(train)\n",
        "  test_index.append(test)"
      ],
      "execution_count": 3,
      "outputs": []
    },
    {
      "cell_type": "code",
      "metadata": {
        "colab": {
          "base_uri": "https://localhost:8080/",
          "height": 204
        },
        "id": "Zm27BxyvZByN",
        "outputId": "7b1f266c-ece2-4dd0-a7d1-47f412851a98"
      },
      "source": [
        "# Take train data and test data from index above\n",
        "train_data = []\n",
        "test_data = []\n",
        "for i in range(n_splits):\n",
        "  train_data.append(data.iloc[train_index[i]])\n",
        "  test_data.append(data.iloc[test_index[i]])\n",
        "\n",
        "train_data[0].head()"
      ],
      "execution_count": 4,
      "outputs": [
        {
          "output_type": "execute_result",
          "data": {
            "text/html": [
              "<div>\n",
              "<style scoped>\n",
              "    .dataframe tbody tr th:only-of-type {\n",
              "        vertical-align: middle;\n",
              "    }\n",
              "\n",
              "    .dataframe tbody tr th {\n",
              "        vertical-align: top;\n",
              "    }\n",
              "\n",
              "    .dataframe thead th {\n",
              "        text-align: right;\n",
              "    }\n",
              "</style>\n",
              "<table border=\"1\" class=\"dataframe\">\n",
              "  <thead>\n",
              "    <tr style=\"text-align: right;\">\n",
              "      <th></th>\n",
              "      <th>YearsExperience</th>\n",
              "      <th>Salary</th>\n",
              "    </tr>\n",
              "  </thead>\n",
              "  <tbody>\n",
              "    <tr>\n",
              "      <th>6</th>\n",
              "      <td>1.3</td>\n",
              "      <td>46205.0</td>\n",
              "    </tr>\n",
              "    <tr>\n",
              "      <th>7</th>\n",
              "      <td>2.0</td>\n",
              "      <td>43525.0</td>\n",
              "    </tr>\n",
              "    <tr>\n",
              "      <th>8</th>\n",
              "      <td>6.8</td>\n",
              "      <td>91738.0</td>\n",
              "    </tr>\n",
              "    <tr>\n",
              "      <th>9</th>\n",
              "      <td>4.0</td>\n",
              "      <td>56957.0</td>\n",
              "    </tr>\n",
              "    <tr>\n",
              "      <th>10</th>\n",
              "      <td>4.1</td>\n",
              "      <td>57081.0</td>\n",
              "    </tr>\n",
              "  </tbody>\n",
              "</table>\n",
              "</div>"
            ],
            "text/plain": [
              "    YearsExperience   Salary\n",
              "6               1.3  46205.0\n",
              "7               2.0  43525.0\n",
              "8               6.8  91738.0\n",
              "9               4.0  56957.0\n",
              "10              4.1  57081.0"
            ]
          },
          "metadata": {},
          "execution_count": 4
        }
      ]
    },
    {
      "cell_type": "code",
      "metadata": {
        "colab": {
          "base_uri": "https://localhost:8080/",
          "height": 204
        },
        "id": "CkKV3aeOZENe",
        "outputId": "80f2e52f-4e85-40ff-b599-f83d4fe5e89f"
      },
      "source": [
        "# Normalize the data, fit train and transform train, test\n",
        "norm_train_data = []\n",
        "norm_test_data = []\n",
        "for i in range(n_splits): \n",
        "  scaler = MinMaxScaler()\n",
        "  transformer = scaler.fit(train_data[i])\n",
        "  train_temp = pd.DataFrame(transformer.transform(train_data[i]), columns=train_data[i].columns, index=train_data[i].index) \n",
        "  test_temp = pd.DataFrame(transformer.transform(test_data[i]), columns=test_data[i].columns, index=test_data[i].index)\n",
        "  norm_train_data.append(train_temp)\n",
        "  norm_test_data.append(train_temp)\n",
        "\n",
        "norm_train_data[0].head()"
      ],
      "execution_count": 5,
      "outputs": [
        {
          "output_type": "execute_result",
          "data": {
            "text/html": [
              "<div>\n",
              "<style scoped>\n",
              "    .dataframe tbody tr th:only-of-type {\n",
              "        vertical-align: middle;\n",
              "    }\n",
              "\n",
              "    .dataframe tbody tr th {\n",
              "        vertical-align: top;\n",
              "    }\n",
              "\n",
              "    .dataframe thead th {\n",
              "        text-align: right;\n",
              "    }\n",
              "</style>\n",
              "<table border=\"1\" class=\"dataframe\">\n",
              "  <thead>\n",
              "    <tr style=\"text-align: right;\">\n",
              "      <th></th>\n",
              "      <th>YearsExperience</th>\n",
              "      <th>Salary</th>\n",
              "    </tr>\n",
              "  </thead>\n",
              "  <tbody>\n",
              "    <tr>\n",
              "      <th>6</th>\n",
              "      <td>0.023529</td>\n",
              "      <td>0.106944</td>\n",
              "    </tr>\n",
              "    <tr>\n",
              "      <th>7</th>\n",
              "      <td>0.105882</td>\n",
              "      <td>0.073121</td>\n",
              "    </tr>\n",
              "    <tr>\n",
              "      <th>8</th>\n",
              "      <td>0.670588</td>\n",
              "      <td>0.681580</td>\n",
              "    </tr>\n",
              "    <tr>\n",
              "      <th>9</th>\n",
              "      <td>0.341176</td>\n",
              "      <td>0.242636</td>\n",
              "    </tr>\n",
              "    <tr>\n",
              "      <th>10</th>\n",
              "      <td>0.352941</td>\n",
              "      <td>0.244201</td>\n",
              "    </tr>\n",
              "  </tbody>\n",
              "</table>\n",
              "</div>"
            ],
            "text/plain": [
              "    YearsExperience    Salary\n",
              "6          0.023529  0.106944\n",
              "7          0.105882  0.073121\n",
              "8          0.670588  0.681580\n",
              "9          0.341176  0.242636\n",
              "10         0.352941  0.244201"
            ]
          },
          "metadata": {},
          "execution_count": 5
        }
      ]
    },
    {
      "cell_type": "code",
      "metadata": {
        "id": "0QfPcIjgiNvk"
      },
      "source": [
        "# This function will help me see my hypotasis line\n",
        "def plot(Xtest, ytest, ypred):\n",
        "  plt.scatter(Xtest, ytest, color=\"black\")\n",
        "  plt.plot(Xtest, ypred, color=\"blue\", linewidth=3)\n",
        "\n",
        "  plt.xticks(())\n",
        "  plt.yticks(())\n",
        "\n",
        "  plt.show()"
      ],
      "execution_count": 6,
      "outputs": []
    },
    {
      "cell_type": "code",
      "metadata": {
        "colab": {
          "base_uri": "https://localhost:8080/",
          "height": 1000
        },
        "id": "gmxCiRVPZHCV",
        "outputId": "41835f1b-8f61-43af-ab43-3d1b9289ced8"
      },
      "source": [
        "# For regression problem I use mean_squared_error to calculate the lost\n",
        "error = 0\n",
        "model = LinearRegression()\n",
        "for i in range(n_splits):\n",
        "  y_pred = model.fit(norm_train_data[i][['YearsExperience']], np.ravel(norm_train_data[i][['Salary']])).predict(norm_test_data[i][['YearsExperience']])\n",
        "  y_test = np.ravel(norm_test_data[i][['Salary']])\n",
        "  plot(norm_test_data[i][['YearsExperience']], y_test, y_pred)\n",
        "  err = mean_squared_error(y_test, y_pred)\n",
        "  error += err\n",
        "print('Average Mean Squared Error: ', error / n_splits)"
      ],
      "execution_count": 7,
      "outputs": [
        {
          "output_type": "display_data",
          "data": {
            "image/png": "[encoded data removed]",
            "text/plain": [
              "<Figure size 432x288 with 1 Axes>"
            ]
          },
          "metadata": {}
        },
        {
          "output_type": "display_data",
          "data": {
            "image/png": "[encoded data removed]",
            "text/plain": [
              "<Figure size 432x288 with 1 Axes>"
            ]
          },
          "metadata": {}
        },
        {
          "output_type": "display_data",
          "data": {
            "image/png": "[encoded data removed]",
            "text/plain": [
              "<Figure size 432x288 with 1 Axes>"
            ]
          },
          "metadata": {}
        },
        {
          "output_type": "display_data",
          "data": {
            "image/png": "[encoded data removed]",
            "text/plain": [
              "<Figure size 432x288 with 1 Axes>"
            ]
          },
          "metadata": {}
        },
        {
          "output_type": "display_data",
          "data": {
            "image/png": "[encoded data removed]",
            "text/plain": [
              "<Figure size 432x288 with 1 Axes>"
            ]
          },
          "metadata": {}
        },
        {
          "output_type": "stream",
          "name": "stdout",
          "text": [
            "Average Mean Squared Error:  0.004461886129173163\n"
          ]
        }
      ]
    },
    {
      "cell_type": "markdown",
      "metadata": {
        "id": "sSePRtYataGj"
      },
      "source": [
        "#2. N-Linear Regression"
      ]
    },
    {
      "cell_type": "code",
      "metadata": {
        "id": "sQMzrdwhv_Vg"
      },
      "source": [
        "from sklearn.preprocessing import OneHotEncoder"
      ],
      "execution_count": 8,
      "outputs": []
    },
    {
      "cell_type": "code",
      "metadata": {
        "colab": {
          "base_uri": "https://localhost:8080/",
          "height": 204
        },
        "id": "h3ogwqMztlML",
        "outputId": "2358df42-22ff-466f-e8c0-441340c66ffe"
      },
      "source": [
        "data = pd.read_csv('/content/drive/MyDrive/School/Python_for_ML/Assignment_8/Data/50_Startups.csv')\n",
        "# shuffle the data just for randomness\n",
        "data = data.sample(frac=1).reset_index(drop=True)\n",
        "data.head()"
      ],
      "execution_count": 9,
      "outputs": [
        {
          "output_type": "execute_result",
          "data": {
            "text/html": [
              "<div>\n",
              "<style scoped>\n",
              "    .dataframe tbody tr th:only-of-type {\n",
              "        vertical-align: middle;\n",
              "    }\n",
              "\n",
              "    .dataframe tbody tr th {\n",
              "        vertical-align: top;\n",
              "    }\n",
              "\n",
              "    .dataframe thead th {\n",
              "        text-align: right;\n",
              "    }\n",
              "</style>\n",
              "<table border=\"1\" class=\"dataframe\">\n",
              "  <thead>\n",
              "    <tr style=\"text-align: right;\">\n",
              "      <th></th>\n",
              "      <th>R&amp;D Spend</th>\n",
              "      <th>Administration</th>\n",
              "      <th>Marketing Spend</th>\n",
              "      <th>State</th>\n",
              "      <th>Profit</th>\n",
              "    </tr>\n",
              "  </thead>\n",
              "  <tbody>\n",
              "    <tr>\n",
              "      <th>0</th>\n",
              "      <td>44069.95</td>\n",
              "      <td>51283.14</td>\n",
              "      <td>197029.42</td>\n",
              "      <td>California</td>\n",
              "      <td>89949.14</td>\n",
              "    </tr>\n",
              "    <tr>\n",
              "      <th>1</th>\n",
              "      <td>78013.11</td>\n",
              "      <td>121597.55</td>\n",
              "      <td>264346.06</td>\n",
              "      <td>California</td>\n",
              "      <td>126992.93</td>\n",
              "    </tr>\n",
              "    <tr>\n",
              "      <th>2</th>\n",
              "      <td>142107.34</td>\n",
              "      <td>91391.77</td>\n",
              "      <td>366168.42</td>\n",
              "      <td>Florida</td>\n",
              "      <td>166187.94</td>\n",
              "    </tr>\n",
              "    <tr>\n",
              "      <th>3</th>\n",
              "      <td>114523.61</td>\n",
              "      <td>122616.84</td>\n",
              "      <td>261776.23</td>\n",
              "      <td>New York</td>\n",
              "      <td>129917.04</td>\n",
              "    </tr>\n",
              "    <tr>\n",
              "      <th>4</th>\n",
              "      <td>162597.70</td>\n",
              "      <td>151377.59</td>\n",
              "      <td>443898.53</td>\n",
              "      <td>California</td>\n",
              "      <td>191792.06</td>\n",
              "    </tr>\n",
              "  </tbody>\n",
              "</table>\n",
              "</div>"
            ],
            "text/plain": [
              "   R&D Spend  Administration  Marketing Spend       State     Profit\n",
              "0   44069.95        51283.14        197029.42  California   89949.14\n",
              "1   78013.11       121597.55        264346.06  California  126992.93\n",
              "2  142107.34        91391.77        366168.42     Florida  166187.94\n",
              "3  114523.61       122616.84        261776.23    New York  129917.04\n",
              "4  162597.70       151377.59        443898.53  California  191792.06"
            ]
          },
          "metadata": {},
          "execution_count": 9
        }
      ]
    },
    {
      "cell_type": "code",
      "metadata": {
        "id": "Xw3mxtHIvsFc"
      },
      "source": [
        "# Split the data\n",
        "n_splits = 5\n",
        "kf = KFold(n_splits)\n",
        "train_index = []\n",
        "test_index = []\n",
        "for train, test in kf.split(data):\n",
        "  train_index.append(train)\n",
        "  test_index.append(test)"
      ],
      "execution_count": 10,
      "outputs": []
    },
    {
      "cell_type": "code",
      "metadata": {
        "colab": {
          "base_uri": "https://localhost:8080/",
          "height": 204
        },
        "id": "IM6pPgj1vvO5",
        "outputId": "6da67713-d9c0-4afc-c384-428ed89c0a2a"
      },
      "source": [
        "train_data = []\n",
        "test_data = []\n",
        "for i in range(n_splits):\n",
        "  train_data.append(data.iloc[train_index[i]])\n",
        "  test_data.append(data.iloc[test_index[i]])\n",
        "\n",
        "test_data[0].head()"
      ],
      "execution_count": 11,
      "outputs": [
        {
          "output_type": "execute_result",
          "data": {
            "text/html": [
              "<div>\n",
              "<style scoped>\n",
              "    .dataframe tbody tr th:only-of-type {\n",
              "        vertical-align: middle;\n",
              "    }\n",
              "\n",
              "    .dataframe tbody tr th {\n",
              "        vertical-align: top;\n",
              "    }\n",
              "\n",
              "    .dataframe thead th {\n",
              "        text-align: right;\n",
              "    }\n",
              "</style>\n",
              "<table border=\"1\" class=\"dataframe\">\n",
              "  <thead>\n",
              "    <tr style=\"text-align: right;\">\n",
              "      <th></th>\n",
              "      <th>R&amp;D Spend</th>\n",
              "      <th>Administration</th>\n",
              "      <th>Marketing Spend</th>\n",
              "      <th>State</th>\n",
              "      <th>Profit</th>\n",
              "    </tr>\n",
              "  </thead>\n",
              "  <tbody>\n",
              "    <tr>\n",
              "      <th>0</th>\n",
              "      <td>44069.95</td>\n",
              "      <td>51283.14</td>\n",
              "      <td>197029.42</td>\n",
              "      <td>California</td>\n",
              "      <td>89949.14</td>\n",
              "    </tr>\n",
              "    <tr>\n",
              "      <th>1</th>\n",
              "      <td>78013.11</td>\n",
              "      <td>121597.55</td>\n",
              "      <td>264346.06</td>\n",
              "      <td>California</td>\n",
              "      <td>126992.93</td>\n",
              "    </tr>\n",
              "    <tr>\n",
              "      <th>2</th>\n",
              "      <td>142107.34</td>\n",
              "      <td>91391.77</td>\n",
              "      <td>366168.42</td>\n",
              "      <td>Florida</td>\n",
              "      <td>166187.94</td>\n",
              "    </tr>\n",
              "    <tr>\n",
              "      <th>3</th>\n",
              "      <td>114523.61</td>\n",
              "      <td>122616.84</td>\n",
              "      <td>261776.23</td>\n",
              "      <td>New York</td>\n",
              "      <td>129917.04</td>\n",
              "    </tr>\n",
              "    <tr>\n",
              "      <th>4</th>\n",
              "      <td>162597.70</td>\n",
              "      <td>151377.59</td>\n",
              "      <td>443898.53</td>\n",
              "      <td>California</td>\n",
              "      <td>191792.06</td>\n",
              "    </tr>\n",
              "  </tbody>\n",
              "</table>\n",
              "</div>"
            ],
            "text/plain": [
              "   R&D Spend  Administration  Marketing Spend       State     Profit\n",
              "0   44069.95        51283.14        197029.42  California   89949.14\n",
              "1   78013.11       121597.55        264346.06  California  126992.93\n",
              "2  142107.34        91391.77        366168.42     Florida  166187.94\n",
              "3  114523.61       122616.84        261776.23    New York  129917.04\n",
              "4  162597.70       151377.59        443898.53  California  191792.06"
            ]
          },
          "metadata": {},
          "execution_count": 11
        }
      ]
    },
    {
      "cell_type": "code",
      "metadata": {
        "id": "3fe6g0DpQrOs",
        "colab": {
          "base_uri": "https://localhost:8080/",
          "height": 204
        },
        "outputId": "32bbfdf4-f73f-4ac3-b923-f69896ab93c4"
      },
      "source": [
        "# As you can see, my data have 'State' column contain string value, \n",
        "# I have to turn it to number but I can't make it comparable, \n",
        "# that's why I encode each value to one hot vector\n",
        "for i in range(n_splits):\n",
        "  one_hot = OneHotEncoder(handle_unknown='ignore')\n",
        "  one_hot = one_hot.fit(train_data[i][['State']])\n",
        "\n",
        "  # Set index=train_index[i] to make sure the rows in train_temp (which contain one hot vector of state column of train_data[i]) \n",
        "  # correspond to ones in train_data[i]\n",
        "  train_temp = pd.DataFrame(one_hot.transform(train_data[i][['State']]).toarray(), index=train_index[i])\n",
        "  train_temp.columns = list(one_hot.categories_[0])\n",
        "  # These 2 lines just to replace 'State' column with one_hot columns\n",
        "  train_temp = pd.concat((train_data[i][['R&D Spend', 'Administration', 'Marketing Spend']], train_temp), axis=1)\n",
        "  train_data[i] = pd.concat((train_temp, train_data[i][['Profit']]), axis=1)\n",
        "\n",
        "  test_temp = pd.DataFrame(one_hot.transform(test_data[i][['State']]).toarray(), index=test_index[i])\n",
        "  test_temp.columns = list(one_hot.categories_[0])\n",
        "  test_temp = pd.concat((test_data[i][['R&D Spend', 'Administration', 'Marketing Spend']], test_temp), axis=1)\n",
        "  test_data[i] = pd.concat((test_temp, test_data[i][['Profit']]), axis=1)\n",
        "\n",
        "test_data[0].head()"
      ],
      "execution_count": 12,
      "outputs": [
        {
          "output_type": "execute_result",
          "data": {
            "text/html": [
              "<div>\n",
              "<style scoped>\n",
              "    .dataframe tbody tr th:only-of-type {\n",
              "        vertical-align: middle;\n",
              "    }\n",
              "\n",
              "    .dataframe tbody tr th {\n",
              "        vertical-align: top;\n",
              "    }\n",
              "\n",
              "    .dataframe thead th {\n",
              "        text-align: right;\n",
              "    }\n",
              "</style>\n",
              "<table border=\"1\" class=\"dataframe\">\n",
              "  <thead>\n",
              "    <tr style=\"text-align: right;\">\n",
              "      <th></th>\n",
              "      <th>R&amp;D Spend</th>\n",
              "      <th>Administration</th>\n",
              "      <th>Marketing Spend</th>\n",
              "      <th>California</th>\n",
              "      <th>Florida</th>\n",
              "      <th>New York</th>\n",
              "      <th>Profit</th>\n",
              "    </tr>\n",
              "  </thead>\n",
              "  <tbody>\n",
              "    <tr>\n",
              "      <th>0</th>\n",
              "      <td>44069.95</td>\n",
              "      <td>51283.14</td>\n",
              "      <td>197029.42</td>\n",
              "      <td>1.0</td>\n",
              "      <td>0.0</td>\n",
              "      <td>0.0</td>\n",
              "      <td>89949.14</td>\n",
              "    </tr>\n",
              "    <tr>\n",
              "      <th>1</th>\n",
              "      <td>78013.11</td>\n",
              "      <td>121597.55</td>\n",
              "      <td>264346.06</td>\n",
              "      <td>1.0</td>\n",
              "      <td>0.0</td>\n",
              "      <td>0.0</td>\n",
              "      <td>126992.93</td>\n",
              "    </tr>\n",
              "    <tr>\n",
              "      <th>2</th>\n",
              "      <td>142107.34</td>\n",
              "      <td>91391.77</td>\n",
              "      <td>366168.42</td>\n",
              "      <td>0.0</td>\n",
              "      <td>1.0</td>\n",
              "      <td>0.0</td>\n",
              "      <td>166187.94</td>\n",
              "    </tr>\n",
              "    <tr>\n",
              "      <th>3</th>\n",
              "      <td>114523.61</td>\n",
              "      <td>122616.84</td>\n",
              "      <td>261776.23</td>\n",
              "      <td>0.0</td>\n",
              "      <td>0.0</td>\n",
              "      <td>1.0</td>\n",
              "      <td>129917.04</td>\n",
              "    </tr>\n",
              "    <tr>\n",
              "      <th>4</th>\n",
              "      <td>162597.70</td>\n",
              "      <td>151377.59</td>\n",
              "      <td>443898.53</td>\n",
              "      <td>1.0</td>\n",
              "      <td>0.0</td>\n",
              "      <td>0.0</td>\n",
              "      <td>191792.06</td>\n",
              "    </tr>\n",
              "  </tbody>\n",
              "</table>\n",
              "</div>"
            ],
            "text/plain": [
              "   R&D Spend  Administration  Marketing Spend  ...  Florida  New York     Profit\n",
              "0   44069.95        51283.14        197029.42  ...      0.0       0.0   89949.14\n",
              "1   78013.11       121597.55        264346.06  ...      0.0       0.0  126992.93\n",
              "2  142107.34        91391.77        366168.42  ...      1.0       0.0  166187.94\n",
              "3  114523.61       122616.84        261776.23  ...      0.0       1.0  129917.04\n",
              "4  162597.70       151377.59        443898.53  ...      0.0       0.0  191792.06\n",
              "\n",
              "[5 rows x 7 columns]"
            ]
          },
          "metadata": {},
          "execution_count": 12
        }
      ]
    },
    {
      "cell_type": "code",
      "metadata": {
        "colab": {
          "base_uri": "https://localhost:8080/",
          "height": 204
        },
        "id": "-Syv3pH_BAqc",
        "outputId": "3421821a-3d64-4b9e-d778-a2f4d48240b7"
      },
      "source": [
        "norm_train_data = []\n",
        "norm_test_data = []\n",
        "for i in range(n_splits): \n",
        "  scaler = MinMaxScaler()\n",
        "  transformer = scaler.fit(train_data[i])\n",
        "  train_temp = pd.DataFrame(transformer.transform(train_data[i]), columns=train_data[i].columns, index=train_data[i].index) \n",
        "  test_temp = pd.DataFrame(transformer.transform(test_data[i]), columns=test_data[i].columns, index=test_data[i].index)\n",
        "  norm_train_data.append(train_temp)\n",
        "  norm_test_data.append(train_temp)\n",
        "\n",
        "norm_test_data[0].head()"
      ],
      "execution_count": 13,
      "outputs": [
        {
          "output_type": "execute_result",
          "data": {
            "text/html": [
              "<div>\n",
              "<style scoped>\n",
              "    .dataframe tbody tr th:only-of-type {\n",
              "        vertical-align: middle;\n",
              "    }\n",
              "\n",
              "    .dataframe tbody tr th {\n",
              "        vertical-align: top;\n",
              "    }\n",
              "\n",
              "    .dataframe thead th {\n",
              "        text-align: right;\n",
              "    }\n",
              "</style>\n",
              "<table border=\"1\" class=\"dataframe\">\n",
              "  <thead>\n",
              "    <tr style=\"text-align: right;\">\n",
              "      <th></th>\n",
              "      <th>R&amp;D Spend</th>\n",
              "      <th>Administration</th>\n",
              "      <th>Marketing Spend</th>\n",
              "      <th>California</th>\n",
              "      <th>Florida</th>\n",
              "      <th>New York</th>\n",
              "      <th>Profit</th>\n",
              "    </tr>\n",
              "  </thead>\n",
              "  <tbody>\n",
              "    <tr>\n",
              "      <th>10</th>\n",
              "      <td>0.436093</td>\n",
              "      <td>0.581513</td>\n",
              "      <td>0.748613</td>\n",
              "      <td>0.0</td>\n",
              "      <td>0.0</td>\n",
              "      <td>1.0</td>\n",
              "      <td>0.508654</td>\n",
              "    </tr>\n",
              "    <tr>\n",
              "      <th>11</th>\n",
              "      <td>0.788018</td>\n",
              "      <td>0.716464</td>\n",
              "      <td>0.686493</td>\n",
              "      <td>0.0</td>\n",
              "      <td>1.0</td>\n",
              "      <td>0.0</td>\n",
              "      <td>0.794407</td>\n",
              "    </tr>\n",
              "    <tr>\n",
              "      <th>12</th>\n",
              "      <td>0.142976</td>\n",
              "      <td>0.339539</td>\n",
              "      <td>0.313705</td>\n",
              "      <td>1.0</td>\n",
              "      <td>0.0</td>\n",
              "      <td>0.0</td>\n",
              "      <td>0.319951</td>\n",
              "    </tr>\n",
              "    <tr>\n",
              "      <th>13</th>\n",
              "      <td>0.233194</td>\n",
              "      <td>0.238643</td>\n",
              "      <td>0.370931</td>\n",
              "      <td>1.0</td>\n",
              "      <td>0.0</td>\n",
              "      <td>0.0</td>\n",
              "      <td>0.373489</td>\n",
              "    </tr>\n",
              "    <tr>\n",
              "      <th>14</th>\n",
              "      <td>0.000000</td>\n",
              "      <td>0.498392</td>\n",
              "      <td>0.095749</td>\n",
              "      <td>1.0</td>\n",
              "      <td>0.0</td>\n",
              "      <td>0.0</td>\n",
              "      <td>0.000000</td>\n",
              "    </tr>\n",
              "  </tbody>\n",
              "</table>\n",
              "</div>"
            ],
            "text/plain": [
              "    R&D Spend  Administration  Marketing Spend  ...  Florida  New York    Profit\n",
              "10   0.436093        0.581513         0.748613  ...      0.0       1.0  0.508654\n",
              "11   0.788018        0.716464         0.686493  ...      1.0       0.0  0.794407\n",
              "12   0.142976        0.339539         0.313705  ...      0.0       0.0  0.319951\n",
              "13   0.233194        0.238643         0.370931  ...      0.0       0.0  0.373489\n",
              "14   0.000000        0.498392         0.095749  ...      0.0       0.0  0.000000\n",
              "\n",
              "[5 rows x 7 columns]"
            ]
          },
          "metadata": {},
          "execution_count": 13
        }
      ]
    },
    {
      "cell_type": "code",
      "metadata": {
        "colab": {
          "base_uri": "https://localhost:8080/"
        },
        "id": "uwc2g1W2BZpX",
        "outputId": "62d4fa83-fefb-4e20-cc20-69076b6004c5"
      },
      "source": [
        "col = list(train_data[0].columns)\n",
        "X_tag = col[0:len(col) - 1]\n",
        "y_tag = [col[len(col) - 1]]\n",
        "X_tag, y_tag"
      ],
      "execution_count": 14,
      "outputs": [
        {
          "output_type": "execute_result",
          "data": {
            "text/plain": [
              "(['R&D Spend',\n",
              "  'Administration',\n",
              "  'Marketing Spend',\n",
              "  'California',\n",
              "  'Florida',\n",
              "  'New York'],\n",
              " ['Profit'])"
            ]
          },
          "metadata": {},
          "execution_count": 14
        }
      ]
    },
    {
      "cell_type": "code",
      "metadata": {
        "colab": {
          "base_uri": "https://localhost:8080/"
        },
        "id": "5H2Uvc4gBOUk",
        "outputId": "3b48d729-210b-4d46-fe6a-ce0949032e4e"
      },
      "source": [
        "error = 0\n",
        "model = LinearRegression()\n",
        "for i in range(n_splits):\n",
        "  y_pred = model.fit(norm_train_data[i][X_tag], np.ravel(norm_train_data[i][y_tag])).predict(norm_test_data[i][X_tag])\n",
        "  y_test = np.ravel(norm_test_data[i][y_tag])\n",
        "  err = mean_squared_error(y_test, y_pred)\n",
        "  error += err\n",
        "print('Average Mean Squared Error: ', error / n_splits)"
      ],
      "execution_count": 15,
      "outputs": [
        {
          "output_type": "stream",
          "name": "stdout",
          "text": [
            "Average Mean Squared Error:  0.002491978290562788\n"
          ]
        }
      ]
    }
  ]
}