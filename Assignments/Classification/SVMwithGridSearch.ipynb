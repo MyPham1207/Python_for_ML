{
  "nbformat": 4,
  "nbformat_minor": 0,
  "metadata": {
    "colab": {
      "name": "SVM.ipynb",
      "provenance": [],
      "mount_file_id": "1BkgDdLRm_xKyA_JTYE4k9H5_5uhMMhTz",
      "authorship_tag": "ABX9TyOjwpYCY3PT/+Cwym2LLSNa",
      "include_colab_link": true
    },
    "kernelspec": {
      "name": "python3",
      "display_name": "Python 3"
    },
    "language_info": {
      "name": "python"
    },
    "accelerator": "GPU"
  },
  "cells": [
    {
      "cell_type": "markdown",
      "metadata": {
        "id": "view-in-github",
        "colab_type": "text"
      },
      "source": [
        "<a href=\"https://colab.research.google.com/github/MyPham1207/Python_for_ML/blob/main/Assignments/Classification/SVMwithGridSearch.ipynb\" target=\"_parent\"><img src=\"https://colab.research.google.com/assets/colab-badge.svg\" alt=\"Open In Colab\"/></a>"
      ]
    },
    {
      "cell_type": "code",
      "metadata": {
        "id": "Sy44wlheOvtz"
      },
      "source": [
        "from sklearn.svm import SVC\n",
        "from sklearn.model_selection import GridSearchCV\n",
        "from sklearn.model_selection import train_test_split\n",
        "from sklearn.preprocessing import MinMaxScaler\n",
        "from sklearn.metrics import accuracy_score\n",
        "from sklearn.metrics import classification_report\n",
        "\n",
        "import pandas as pd\n",
        "import numpy as np"
      ],
      "execution_count": 103,
      "outputs": []
    },
    {
      "cell_type": "code",
      "metadata": {
        "colab": {
          "base_uri": "https://localhost:8080/"
        },
        "id": "EtC5H4cYuZP5",
        "outputId": "9f9caf41-e1ad-4694-c377-4c5e95a4c4be"
      },
      "source": [
        "from google.colab import drive\n",
        "drive.mount('/content/drive')"
      ],
      "execution_count": 104,
      "outputs": [
        {
          "output_type": "stream",
          "name": "stdout",
          "text": [
            "Drive already mounted at /content/drive; to attempt to forcibly remount, call drive.mount(\"/content/drive\", force_remount=True).\n"
          ]
        }
      ]
    },
    {
      "cell_type": "code",
      "metadata": {
        "colab": {
          "base_uri": "https://localhost:8080/",
          "height": 226
        },
        "id": "QX6rogeo2Z1P",
        "outputId": "a2b6aec3-09d2-4ce3-e933-54d8ee856fb2"
      },
      "source": [
        "#data = pd.read_csv('/content/drive/MyDrive/School/Python_for_ML/Assignment_6/Data/Social_Network_Ads.csv')\n",
        "data = pd.read_csv('/content/drive/MyDrive/School/Python_for_ML/Assignment_6/Data/Wine.csv')\n",
        "data = data.sample(frac=1).reset_index(drop=True)\n",
        "data.head()"
      ],
      "execution_count": 105,
      "outputs": [
        {
          "output_type": "execute_result",
          "data": {
            "text/html": [
              "<div>\n",
              "<style scoped>\n",
              "    .dataframe tbody tr th:only-of-type {\n",
              "        vertical-align: middle;\n",
              "    }\n",
              "\n",
              "    .dataframe tbody tr th {\n",
              "        vertical-align: top;\n",
              "    }\n",
              "\n",
              "    .dataframe thead th {\n",
              "        text-align: right;\n",
              "    }\n",
              "</style>\n",
              "<table border=\"1\" class=\"dataframe\">\n",
              "  <thead>\n",
              "    <tr style=\"text-align: right;\">\n",
              "      <th></th>\n",
              "      <th>Alcohol</th>\n",
              "      <th>Malic_Acid</th>\n",
              "      <th>Ash</th>\n",
              "      <th>Ash_Alcanity</th>\n",
              "      <th>Magnesium</th>\n",
              "      <th>Total_Phenols</th>\n",
              "      <th>Flavanoids</th>\n",
              "      <th>Nonflavanoid_Phenols</th>\n",
              "      <th>Proanthocyanins</th>\n",
              "      <th>Color_Intensity</th>\n",
              "      <th>Hue</th>\n",
              "      <th>OD280</th>\n",
              "      <th>Proline</th>\n",
              "      <th>Customer_Segment</th>\n",
              "    </tr>\n",
              "  </thead>\n",
              "  <tbody>\n",
              "    <tr>\n",
              "      <th>0</th>\n",
              "      <td>12.81</td>\n",
              "      <td>2.31</td>\n",
              "      <td>2.40</td>\n",
              "      <td>24.0</td>\n",
              "      <td>98</td>\n",
              "      <td>1.15</td>\n",
              "      <td>1.09</td>\n",
              "      <td>0.27</td>\n",
              "      <td>0.83</td>\n",
              "      <td>5.7</td>\n",
              "      <td>0.66</td>\n",
              "      <td>1.36</td>\n",
              "      <td>560</td>\n",
              "      <td>3</td>\n",
              "    </tr>\n",
              "    <tr>\n",
              "      <th>1</th>\n",
              "      <td>14.75</td>\n",
              "      <td>1.73</td>\n",
              "      <td>2.39</td>\n",
              "      <td>11.4</td>\n",
              "      <td>91</td>\n",
              "      <td>3.10</td>\n",
              "      <td>3.69</td>\n",
              "      <td>0.43</td>\n",
              "      <td>2.81</td>\n",
              "      <td>5.4</td>\n",
              "      <td>1.25</td>\n",
              "      <td>2.73</td>\n",
              "      <td>1150</td>\n",
              "      <td>1</td>\n",
              "    </tr>\n",
              "    <tr>\n",
              "      <th>2</th>\n",
              "      <td>11.66</td>\n",
              "      <td>1.88</td>\n",
              "      <td>1.92</td>\n",
              "      <td>16.0</td>\n",
              "      <td>97</td>\n",
              "      <td>1.61</td>\n",
              "      <td>1.57</td>\n",
              "      <td>0.34</td>\n",
              "      <td>1.15</td>\n",
              "      <td>3.8</td>\n",
              "      <td>1.23</td>\n",
              "      <td>2.14</td>\n",
              "      <td>428</td>\n",
              "      <td>2</td>\n",
              "    </tr>\n",
              "    <tr>\n",
              "      <th>3</th>\n",
              "      <td>13.51</td>\n",
              "      <td>1.80</td>\n",
              "      <td>2.65</td>\n",
              "      <td>19.0</td>\n",
              "      <td>110</td>\n",
              "      <td>2.35</td>\n",
              "      <td>2.53</td>\n",
              "      <td>0.29</td>\n",
              "      <td>1.54</td>\n",
              "      <td>4.2</td>\n",
              "      <td>1.10</td>\n",
              "      <td>2.87</td>\n",
              "      <td>1095</td>\n",
              "      <td>1</td>\n",
              "    </tr>\n",
              "    <tr>\n",
              "      <th>4</th>\n",
              "      <td>11.46</td>\n",
              "      <td>3.74</td>\n",
              "      <td>1.82</td>\n",
              "      <td>19.5</td>\n",
              "      <td>107</td>\n",
              "      <td>3.18</td>\n",
              "      <td>2.58</td>\n",
              "      <td>0.24</td>\n",
              "      <td>3.58</td>\n",
              "      <td>2.9</td>\n",
              "      <td>0.75</td>\n",
              "      <td>2.81</td>\n",
              "      <td>562</td>\n",
              "      <td>2</td>\n",
              "    </tr>\n",
              "  </tbody>\n",
              "</table>\n",
              "</div>"
            ],
            "text/plain": [
              "   Alcohol  Malic_Acid   Ash  ...  OD280  Proline  Customer_Segment\n",
              "0    12.81        2.31  2.40  ...   1.36      560                 3\n",
              "1    14.75        1.73  2.39  ...   2.73     1150                 1\n",
              "2    11.66        1.88  1.92  ...   2.14      428                 2\n",
              "3    13.51        1.80  2.65  ...   2.87     1095                 1\n",
              "4    11.46        3.74  1.82  ...   2.81      562                 2\n",
              "\n",
              "[5 rows x 14 columns]"
            ]
          },
          "metadata": {},
          "execution_count": 105
        }
      ]
    },
    {
      "cell_type": "code",
      "metadata": {
        "colab": {
          "base_uri": "https://localhost:8080/"
        },
        "id": "RfaBMv0P47FK",
        "outputId": "6d3aadea-1fc6-460f-da81-e9fa98382bec"
      },
      "source": [
        "col = list(data.columns)\n",
        "X_tag = col[0 : len(col) - 1]\n",
        "y_tag = [col[len(col) - 1]]\n",
        "y_tag"
      ],
      "execution_count": 106,
      "outputs": [
        {
          "output_type": "execute_result",
          "data": {
            "text/plain": [
              "['Customer_Segment']"
            ]
          },
          "metadata": {},
          "execution_count": 106
        }
      ]
    },
    {
      "cell_type": "code",
      "metadata": {
        "colab": {
          "base_uri": "https://localhost:8080/",
          "height": 206
        },
        "id": "R3JA3Qz03kg-",
        "outputId": "22cde687-8794-43be-a586-303f3d2b0a8c"
      },
      "source": [
        "X_train, X_test, y_train, y_test = train_test_split(data[X_tag], data[y_tag], test_size=0.2)\n",
        "X_train.head()"
      ],
      "execution_count": 107,
      "outputs": [
        {
          "output_type": "execute_result",
          "data": {
            "text/html": [
              "<div>\n",
              "<style scoped>\n",
              "    .dataframe tbody tr th:only-of-type {\n",
              "        vertical-align: middle;\n",
              "    }\n",
              "\n",
              "    .dataframe tbody tr th {\n",
              "        vertical-align: top;\n",
              "    }\n",
              "\n",
              "    .dataframe thead th {\n",
              "        text-align: right;\n",
              "    }\n",
              "</style>\n",
              "<table border=\"1\" class=\"dataframe\">\n",
              "  <thead>\n",
              "    <tr style=\"text-align: right;\">\n",
              "      <th></th>\n",
              "      <th>Alcohol</th>\n",
              "      <th>Malic_Acid</th>\n",
              "      <th>Ash</th>\n",
              "      <th>Ash_Alcanity</th>\n",
              "      <th>Magnesium</th>\n",
              "      <th>Total_Phenols</th>\n",
              "      <th>Flavanoids</th>\n",
              "      <th>Nonflavanoid_Phenols</th>\n",
              "      <th>Proanthocyanins</th>\n",
              "      <th>Color_Intensity</th>\n",
              "      <th>Hue</th>\n",
              "      <th>OD280</th>\n",
              "      <th>Proline</th>\n",
              "    </tr>\n",
              "  </thead>\n",
              "  <tbody>\n",
              "    <tr>\n",
              "      <th>29</th>\n",
              "      <td>12.36</td>\n",
              "      <td>3.83</td>\n",
              "      <td>2.38</td>\n",
              "      <td>21.0</td>\n",
              "      <td>88</td>\n",
              "      <td>2.30</td>\n",
              "      <td>0.92</td>\n",
              "      <td>0.50</td>\n",
              "      <td>1.04</td>\n",
              "      <td>7.65</td>\n",
              "      <td>0.56</td>\n",
              "      <td>1.58</td>\n",
              "      <td>520</td>\n",
              "    </tr>\n",
              "    <tr>\n",
              "      <th>98</th>\n",
              "      <td>14.02</td>\n",
              "      <td>1.68</td>\n",
              "      <td>2.21</td>\n",
              "      <td>16.0</td>\n",
              "      <td>96</td>\n",
              "      <td>2.65</td>\n",
              "      <td>2.33</td>\n",
              "      <td>0.26</td>\n",
              "      <td>1.98</td>\n",
              "      <td>4.70</td>\n",
              "      <td>1.04</td>\n",
              "      <td>3.59</td>\n",
              "      <td>1035</td>\n",
              "    </tr>\n",
              "    <tr>\n",
              "      <th>72</th>\n",
              "      <td>12.93</td>\n",
              "      <td>3.80</td>\n",
              "      <td>2.65</td>\n",
              "      <td>18.6</td>\n",
              "      <td>102</td>\n",
              "      <td>2.41</td>\n",
              "      <td>2.41</td>\n",
              "      <td>0.25</td>\n",
              "      <td>1.98</td>\n",
              "      <td>4.50</td>\n",
              "      <td>1.03</td>\n",
              "      <td>3.52</td>\n",
              "      <td>770</td>\n",
              "    </tr>\n",
              "    <tr>\n",
              "      <th>57</th>\n",
              "      <td>12.82</td>\n",
              "      <td>3.37</td>\n",
              "      <td>2.30</td>\n",
              "      <td>19.5</td>\n",
              "      <td>88</td>\n",
              "      <td>1.48</td>\n",
              "      <td>0.66</td>\n",
              "      <td>0.40</td>\n",
              "      <td>0.97</td>\n",
              "      <td>10.26</td>\n",
              "      <td>0.72</td>\n",
              "      <td>1.75</td>\n",
              "      <td>685</td>\n",
              "    </tr>\n",
              "    <tr>\n",
              "      <th>97</th>\n",
              "      <td>11.96</td>\n",
              "      <td>1.09</td>\n",
              "      <td>2.30</td>\n",
              "      <td>21.0</td>\n",
              "      <td>101</td>\n",
              "      <td>3.38</td>\n",
              "      <td>2.14</td>\n",
              "      <td>0.13</td>\n",
              "      <td>1.65</td>\n",
              "      <td>3.21</td>\n",
              "      <td>0.99</td>\n",
              "      <td>3.13</td>\n",
              "      <td>886</td>\n",
              "    </tr>\n",
              "  </tbody>\n",
              "</table>\n",
              "</div>"
            ],
            "text/plain": [
              "    Alcohol  Malic_Acid   Ash  ...   Hue  OD280  Proline\n",
              "29    12.36        3.83  2.38  ...  0.56   1.58      520\n",
              "98    14.02        1.68  2.21  ...  1.04   3.59     1035\n",
              "72    12.93        3.80  2.65  ...  1.03   3.52      770\n",
              "57    12.82        3.37  2.30  ...  0.72   1.75      685\n",
              "97    11.96        1.09  2.30  ...  0.99   3.13      886\n",
              "\n",
              "[5 rows x 13 columns]"
            ]
          },
          "metadata": {},
          "execution_count": 107
        }
      ]
    },
    {
      "cell_type": "code",
      "metadata": {
        "colab": {
          "base_uri": "https://localhost:8080/",
          "height": 226
        },
        "id": "Z0nVwOgX78aD",
        "outputId": "33a131ee-8559-4bf6-9b93-76aaefe21448"
      },
      "source": [
        "scaler = MinMaxScaler()\n",
        "transformer = scaler.fit(X_train)\n",
        "norm_X_train = pd.DataFrame(transformer.transform(X_train), columns=X_tag, index=X_train.index)\n",
        "norm_X_test = pd.DataFrame(transformer.transform(X_test), columns=X_tag, index=X_test.index)\n",
        "norm_X_train.head()"
      ],
      "execution_count": 108,
      "outputs": [
        {
          "output_type": "execute_result",
          "data": {
            "text/html": [
              "<div>\n",
              "<style scoped>\n",
              "    .dataframe tbody tr th:only-of-type {\n",
              "        vertical-align: middle;\n",
              "    }\n",
              "\n",
              "    .dataframe tbody tr th {\n",
              "        vertical-align: top;\n",
              "    }\n",
              "\n",
              "    .dataframe thead th {\n",
              "        text-align: right;\n",
              "    }\n",
              "</style>\n",
              "<table border=\"1\" class=\"dataframe\">\n",
              "  <thead>\n",
              "    <tr style=\"text-align: right;\">\n",
              "      <th></th>\n",
              "      <th>Alcohol</th>\n",
              "      <th>Malic_Acid</th>\n",
              "      <th>Ash</th>\n",
              "      <th>Ash_Alcanity</th>\n",
              "      <th>Magnesium</th>\n",
              "      <th>Total_Phenols</th>\n",
              "      <th>Flavanoids</th>\n",
              "      <th>Nonflavanoid_Phenols</th>\n",
              "      <th>Proanthocyanins</th>\n",
              "      <th>Color_Intensity</th>\n",
              "      <th>Hue</th>\n",
              "      <th>OD280</th>\n",
              "      <th>Proline</th>\n",
              "    </tr>\n",
              "  </thead>\n",
              "  <tbody>\n",
              "    <tr>\n",
              "      <th>29</th>\n",
              "      <td>0.350000</td>\n",
              "      <td>0.610672</td>\n",
              "      <td>0.444444</td>\n",
              "      <td>0.566474</td>\n",
              "      <td>0.119048</td>\n",
              "      <td>0.455172</td>\n",
              "      <td>0.122363</td>\n",
              "      <td>0.74</td>\n",
              "      <td>0.198738</td>\n",
              "      <td>0.543515</td>\n",
              "      <td>0.065041</td>\n",
              "      <td>0.107011</td>\n",
              "      <td>0.172611</td>\n",
              "    </tr>\n",
              "    <tr>\n",
              "      <th>98</th>\n",
              "      <td>0.786842</td>\n",
              "      <td>0.185771</td>\n",
              "      <td>0.333333</td>\n",
              "      <td>0.277457</td>\n",
              "      <td>0.214286</td>\n",
              "      <td>0.575862</td>\n",
              "      <td>0.419831</td>\n",
              "      <td>0.26</td>\n",
              "      <td>0.495268</td>\n",
              "      <td>0.291809</td>\n",
              "      <td>0.455285</td>\n",
              "      <td>0.848708</td>\n",
              "      <td>0.539943</td>\n",
              "    </tr>\n",
              "    <tr>\n",
              "      <th>72</th>\n",
              "      <td>0.500000</td>\n",
              "      <td>0.604743</td>\n",
              "      <td>0.620915</td>\n",
              "      <td>0.427746</td>\n",
              "      <td>0.285714</td>\n",
              "      <td>0.493103</td>\n",
              "      <td>0.436709</td>\n",
              "      <td>0.24</td>\n",
              "      <td>0.495268</td>\n",
              "      <td>0.274744</td>\n",
              "      <td>0.447154</td>\n",
              "      <td>0.822878</td>\n",
              "      <td>0.350927</td>\n",
              "    </tr>\n",
              "    <tr>\n",
              "      <th>57</th>\n",
              "      <td>0.471053</td>\n",
              "      <td>0.519763</td>\n",
              "      <td>0.392157</td>\n",
              "      <td>0.479769</td>\n",
              "      <td>0.119048</td>\n",
              "      <td>0.172414</td>\n",
              "      <td>0.067511</td>\n",
              "      <td>0.54</td>\n",
              "      <td>0.176656</td>\n",
              "      <td>0.766212</td>\n",
              "      <td>0.195122</td>\n",
              "      <td>0.169742</td>\n",
              "      <td>0.290300</td>\n",
              "    </tr>\n",
              "    <tr>\n",
              "      <th>97</th>\n",
              "      <td>0.244737</td>\n",
              "      <td>0.069170</td>\n",
              "      <td>0.392157</td>\n",
              "      <td>0.566474</td>\n",
              "      <td>0.273810</td>\n",
              "      <td>0.827586</td>\n",
              "      <td>0.379747</td>\n",
              "      <td>0.00</td>\n",
              "      <td>0.391167</td>\n",
              "      <td>0.164676</td>\n",
              "      <td>0.414634</td>\n",
              "      <td>0.678967</td>\n",
              "      <td>0.433666</td>\n",
              "    </tr>\n",
              "  </tbody>\n",
              "</table>\n",
              "</div>"
            ],
            "text/plain": [
              "     Alcohol  Malic_Acid       Ash  ...       Hue     OD280   Proline\n",
              "29  0.350000    0.610672  0.444444  ...  0.065041  0.107011  0.172611\n",
              "98  0.786842    0.185771  0.333333  ...  0.455285  0.848708  0.539943\n",
              "72  0.500000    0.604743  0.620915  ...  0.447154  0.822878  0.350927\n",
              "57  0.471053    0.519763  0.392157  ...  0.195122  0.169742  0.290300\n",
              "97  0.244737    0.069170  0.392157  ...  0.414634  0.678967  0.433666\n",
              "\n",
              "[5 rows x 13 columns]"
            ]
          },
          "metadata": {},
          "execution_count": 108
        }
      ]
    },
    {
      "cell_type": "markdown",
      "metadata": {
        "id": "hAGZuFRd1mdc"
      },
      "source": [
        "##Without Grid Search"
      ]
    },
    {
      "cell_type": "code",
      "metadata": {
        "colab": {
          "base_uri": "https://localhost:8080/"
        },
        "id": "M8D_VhI41lQk",
        "outputId": "ca7dc4dd-2c86-4f1d-e1d9-8fbda21704a0"
      },
      "source": [
        "model1 = SVC()\n",
        "model1.fit(norm_X_train, np.ravel(y_train))\n",
        "y_pred1 = model1.predict(norm_X_test)\n",
        "print('Accuracy of SVM without Grid Search:', accuracy_score(y_test, y_pred1))"
      ],
      "execution_count": 109,
      "outputs": [
        {
          "output_type": "stream",
          "name": "stdout",
          "text": [
            "Accuracy of SVM without Grid Search: 1.0\n"
          ]
        }
      ]
    },
    {
      "cell_type": "code",
      "metadata": {
        "colab": {
          "base_uri": "https://localhost:8080/"
        },
        "id": "pmbr1ejw2HMA",
        "outputId": "df83cd3b-e6ff-4e66-f688-0d1a3b3870b1"
      },
      "source": [
        "print(classification_report(y_test, y_pred1))"
      ],
      "execution_count": 110,
      "outputs": [
        {
          "output_type": "stream",
          "name": "stdout",
          "text": [
            "              precision    recall  f1-score   support\n",
            "\n",
            "           1       1.00      1.00      1.00        10\n",
            "           2       1.00      1.00      1.00        17\n",
            "           3       1.00      1.00      1.00         9\n",
            "\n",
            "    accuracy                           1.00        36\n",
            "   macro avg       1.00      1.00      1.00        36\n",
            "weighted avg       1.00      1.00      1.00        36\n",
            "\n"
          ]
        }
      ]
    },
    {
      "cell_type": "markdown",
      "metadata": {
        "id": "NvQtSQSM1e1r"
      },
      "source": [
        "##With Grid Search"
      ]
    },
    {
      "cell_type": "code",
      "metadata": {
        "id": "w4AXdMRk9ARe"
      },
      "source": [
        "param_grid = {'kernel':['linear', 'rbf', 'poly', 'sigmoid'], 'C':[2**i for i in range(10)], 'gamma':[2**(-i) for i in range(10)]}\n",
        "model2 = SVC()\n",
        "grid = GridSearchCV(model2, param_grid)"
      ],
      "execution_count": 111,
      "outputs": []
    },
    {
      "cell_type": "code",
      "metadata": {
        "id": "slZS0yuU_Xyf",
        "colab": {
          "base_uri": "https://localhost:8080/"
        },
        "outputId": "40c0a3f3-eb52-43af-c23c-8b5aa154f4df"
      },
      "source": [
        "grid.fit(norm_X_train, np.ravel(y_train))\n",
        "print(grid.best_params_)"
      ],
      "execution_count": 112,
      "outputs": [
        {
          "output_type": "stream",
          "name": "stdout",
          "text": [
            "{'C': 16, 'gamma': 0.25, 'kernel': 'rbf'}\n"
          ]
        }
      ]
    },
    {
      "cell_type": "code",
      "metadata": {
        "colab": {
          "base_uri": "https://localhost:8080/"
        },
        "id": "olhW2ktIAEmK",
        "outputId": "75cf2a3b-7df1-466f-cf67-e769ec838818"
      },
      "source": [
        "y_pred2 = grid.predict(norm_X_test)\n",
        "acc = accuracy_score(y_test, y_pred2)\n",
        "print('Accuracy of SVM with Grid Search: ', acc)"
      ],
      "execution_count": 113,
      "outputs": [
        {
          "output_type": "stream",
          "name": "stdout",
          "text": [
            "Accuracy of SVM with Grid Search:  1.0\n"
          ]
        }
      ]
    },
    {
      "cell_type": "code",
      "metadata": {
        "colab": {
          "base_uri": "https://localhost:8080/"
        },
        "id": "mI2N4PLlzuYH",
        "outputId": "a770695b-e1a4-4f7f-b863-1c1689661939"
      },
      "source": [
        "print(classification_report(y_test, y_pred2))"
      ],
      "execution_count": 114,
      "outputs": [
        {
          "output_type": "stream",
          "name": "stdout",
          "text": [
            "              precision    recall  f1-score   support\n",
            "\n",
            "           1       1.00      1.00      1.00        10\n",
            "           2       1.00      1.00      1.00        17\n",
            "           3       1.00      1.00      1.00         9\n",
            "\n",
            "    accuracy                           1.00        36\n",
            "   macro avg       1.00      1.00      1.00        36\n",
            "weighted avg       1.00      1.00      1.00        36\n",
            "\n"
          ]
        }
      ]
    }
  ]
}