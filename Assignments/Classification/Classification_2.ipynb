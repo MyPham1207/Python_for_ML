{
  "nbformat": 4,
  "nbformat_minor": 0,
  "metadata": {
    "colab": {
      "name": "Classification_2.ipynb",
      "provenance": [],
      "collapsed_sections": [],
      "authorship_tag": "ABX9TyPXTIukGZUBdDTJtHRQO+Id",
      "include_colab_link": true
    },
    "kernelspec": {
      "display_name": "Python 3",
      "name": "python3"
    },
    "language_info": {
      "name": "python"
    }
  },
  "cells": [
    {
      "cell_type": "markdown",
      "metadata": {
        "id": "view-in-github",
        "colab_type": "text"
      },
      "source": [
        "<a href=\"https://colab.research.google.com/github/MyPham1207/Python_for_ML/blob/main/Assignments/Classification/Classification_2.ipynb\" target=\"_parent\"><img src=\"https://colab.research.google.com/assets/colab-badge.svg\" alt=\"Open In Colab\"/></a>"
      ]
    },
    {
      "cell_type": "code",
      "metadata": {
        "colab": {
          "base_uri": "https://localhost:8080/"
        },
        "id": "BLQForWOqxSg",
        "outputId": "c8a572e4-a22f-4ea9-f92c-30eeafc8c803"
      },
      "source": [
        "from google.colab import drive\n",
        "drive.mount('/content/drive', force_remount=True)\n",
        "\n",
        "import pandas as pd\n",
        "\n",
        "from sklearn.model_selection import KFold\n",
        "from sklearn.preprocessing import StandardScaler\n",
        "from sklearn.naive_bayes import GaussianNB\n",
        "from sklearn.linear_model import LogisticRegression\n",
        "from sklearn import svm\n",
        "from sklearn.neighbors import KNeighborsClassifier\n",
        "from sklearn import tree\n",
        "from sklearn.ensemble import RandomForestClassifier\n",
        "from sklearn.metrics import accuracy_score\n",
        "from sklearn.decomposition import PCA\n",
        "\n",
        "import numpy as np"
      ],
      "execution_count": null,
      "outputs": [
        {
          "output_type": "stream",
          "name": "stdout",
          "text": [
            "Mounted at /content/drive\n"
          ]
        }
      ]
    },
    {
      "cell_type": "markdown",
      "metadata": {
        "id": "S8iaINSrwapv"
      },
      "source": [
        "##Step 1: Load data"
      ]
    },
    {
      "cell_type": "code",
      "metadata": {
        "colab": {
          "base_uri": "https://localhost:8080/",
          "height": 224
        },
        "id": "nIs7ptE1vnVT",
        "outputId": "de75b30b-05bd-4cad-c257-7f2629b780f9"
      },
      "source": [
        "data = pd.read_csv('/content/drive/MyDrive/School/Python_for_ML/Assignment_6/Data/Wine.csv')\n",
        "# shuffle the data or else the data after split will be skewed\n",
        "data = data.sample(frac=1).reset_index(drop=True)\n",
        "data.head()"
      ],
      "execution_count": null,
      "outputs": [
        {
          "output_type": "execute_result",
          "data": {
            "text/html": [
              "<div>\n",
              "<style scoped>\n",
              "    .dataframe tbody tr th:only-of-type {\n",
              "        vertical-align: middle;\n",
              "    }\n",
              "\n",
              "    .dataframe tbody tr th {\n",
              "        vertical-align: top;\n",
              "    }\n",
              "\n",
              "    .dataframe thead th {\n",
              "        text-align: right;\n",
              "    }\n",
              "</style>\n",
              "<table border=\"1\" class=\"dataframe\">\n",
              "  <thead>\n",
              "    <tr style=\"text-align: right;\">\n",
              "      <th></th>\n",
              "      <th>Alcohol</th>\n",
              "      <th>Malic_Acid</th>\n",
              "      <th>Ash</th>\n",
              "      <th>Ash_Alcanity</th>\n",
              "      <th>Magnesium</th>\n",
              "      <th>Total_Phenols</th>\n",
              "      <th>Flavanoids</th>\n",
              "      <th>Nonflavanoid_Phenols</th>\n",
              "      <th>Proanthocyanins</th>\n",
              "      <th>Color_Intensity</th>\n",
              "      <th>Hue</th>\n",
              "      <th>OD280</th>\n",
              "      <th>Proline</th>\n",
              "      <th>Customer_Segment</th>\n",
              "    </tr>\n",
              "  </thead>\n",
              "  <tbody>\n",
              "    <tr>\n",
              "      <th>0</th>\n",
              "      <td>12.96</td>\n",
              "      <td>3.45</td>\n",
              "      <td>2.35</td>\n",
              "      <td>18.5</td>\n",
              "      <td>106</td>\n",
              "      <td>1.39</td>\n",
              "      <td>0.70</td>\n",
              "      <td>0.40</td>\n",
              "      <td>0.94</td>\n",
              "      <td>5.28</td>\n",
              "      <td>0.68</td>\n",
              "      <td>1.75</td>\n",
              "      <td>675</td>\n",
              "      <td>3</td>\n",
              "    </tr>\n",
              "    <tr>\n",
              "      <th>1</th>\n",
              "      <td>13.45</td>\n",
              "      <td>3.70</td>\n",
              "      <td>2.60</td>\n",
              "      <td>23.0</td>\n",
              "      <td>111</td>\n",
              "      <td>1.70</td>\n",
              "      <td>0.92</td>\n",
              "      <td>0.43</td>\n",
              "      <td>1.46</td>\n",
              "      <td>10.68</td>\n",
              "      <td>0.85</td>\n",
              "      <td>1.56</td>\n",
              "      <td>695</td>\n",
              "      <td>3</td>\n",
              "    </tr>\n",
              "    <tr>\n",
              "      <th>2</th>\n",
              "      <td>12.29</td>\n",
              "      <td>3.17</td>\n",
              "      <td>2.21</td>\n",
              "      <td>18.0</td>\n",
              "      <td>88</td>\n",
              "      <td>2.85</td>\n",
              "      <td>2.99</td>\n",
              "      <td>0.45</td>\n",
              "      <td>2.81</td>\n",
              "      <td>2.30</td>\n",
              "      <td>1.42</td>\n",
              "      <td>2.83</td>\n",
              "      <td>406</td>\n",
              "      <td>2</td>\n",
              "    </tr>\n",
              "    <tr>\n",
              "      <th>3</th>\n",
              "      <td>14.13</td>\n",
              "      <td>4.10</td>\n",
              "      <td>2.74</td>\n",
              "      <td>24.5</td>\n",
              "      <td>96</td>\n",
              "      <td>2.05</td>\n",
              "      <td>0.76</td>\n",
              "      <td>0.56</td>\n",
              "      <td>1.35</td>\n",
              "      <td>9.20</td>\n",
              "      <td>0.61</td>\n",
              "      <td>1.60</td>\n",
              "      <td>560</td>\n",
              "      <td>3</td>\n",
              "    </tr>\n",
              "    <tr>\n",
              "      <th>4</th>\n",
              "      <td>14.16</td>\n",
              "      <td>2.51</td>\n",
              "      <td>2.48</td>\n",
              "      <td>20.0</td>\n",
              "      <td>91</td>\n",
              "      <td>1.68</td>\n",
              "      <td>0.70</td>\n",
              "      <td>0.44</td>\n",
              "      <td>1.24</td>\n",
              "      <td>9.70</td>\n",
              "      <td>0.62</td>\n",
              "      <td>1.71</td>\n",
              "      <td>660</td>\n",
              "      <td>3</td>\n",
              "    </tr>\n",
              "  </tbody>\n",
              "</table>\n",
              "</div>"
            ],
            "text/plain": [
              "   Alcohol  Malic_Acid   Ash  ...  OD280  Proline  Customer_Segment\n",
              "0    12.96        3.45  2.35  ...   1.75      675                 3\n",
              "1    13.45        3.70  2.60  ...   1.56      695                 3\n",
              "2    12.29        3.17  2.21  ...   2.83      406                 2\n",
              "3    14.13        4.10  2.74  ...   1.60      560                 3\n",
              "4    14.16        2.51  2.48  ...   1.71      660                 3\n",
              "\n",
              "[5 rows x 14 columns]"
            ]
          },
          "metadata": {},
          "execution_count": 2
        }
      ]
    },
    {
      "cell_type": "markdown",
      "metadata": {
        "id": "WnLTSem2whQe"
      },
      "source": [
        "##Step 2: Split the data and standardization"
      ]
    },
    {
      "cell_type": "code",
      "metadata": {
        "id": "yJaML6LQwOey"
      },
      "source": [
        "# Split the data\n",
        "n_splits = 5\n",
        "kf = KFold(n_splits)\n",
        "train_index = []\n",
        "test_index = []\n",
        "for train, test in kf.split(data):\n",
        "  train_index.append(train)\n",
        "  test_index.append(test)"
      ],
      "execution_count": null,
      "outputs": []
    },
    {
      "cell_type": "code",
      "metadata": {
        "colab": {
          "base_uri": "https://localhost:8080/",
          "height": 224
        },
        "id": "-jZfxX_OwlIj",
        "outputId": "b6d98c21-736a-47b9-c456-109bfb10aca1"
      },
      "source": [
        "train_data = []\n",
        "test_data = []\n",
        "for i in range(n_splits):\n",
        "  train_data.append(data.iloc[train_index[i]])\n",
        "  test_data.append(data.iloc[test_index[i]])\n",
        "\n",
        "train_data[0].head()"
      ],
      "execution_count": null,
      "outputs": [
        {
          "output_type": "execute_result",
          "data": {
            "text/html": [
              "<div>\n",
              "<style scoped>\n",
              "    .dataframe tbody tr th:only-of-type {\n",
              "        vertical-align: middle;\n",
              "    }\n",
              "\n",
              "    .dataframe tbody tr th {\n",
              "        vertical-align: top;\n",
              "    }\n",
              "\n",
              "    .dataframe thead th {\n",
              "        text-align: right;\n",
              "    }\n",
              "</style>\n",
              "<table border=\"1\" class=\"dataframe\">\n",
              "  <thead>\n",
              "    <tr style=\"text-align: right;\">\n",
              "      <th></th>\n",
              "      <th>Alcohol</th>\n",
              "      <th>Malic_Acid</th>\n",
              "      <th>Ash</th>\n",
              "      <th>Ash_Alcanity</th>\n",
              "      <th>Magnesium</th>\n",
              "      <th>Total_Phenols</th>\n",
              "      <th>Flavanoids</th>\n",
              "      <th>Nonflavanoid_Phenols</th>\n",
              "      <th>Proanthocyanins</th>\n",
              "      <th>Color_Intensity</th>\n",
              "      <th>Hue</th>\n",
              "      <th>OD280</th>\n",
              "      <th>Proline</th>\n",
              "      <th>Customer_Segment</th>\n",
              "    </tr>\n",
              "  </thead>\n",
              "  <tbody>\n",
              "    <tr>\n",
              "      <th>36</th>\n",
              "      <td>11.84</td>\n",
              "      <td>0.89</td>\n",
              "      <td>2.58</td>\n",
              "      <td>18.0</td>\n",
              "      <td>94</td>\n",
              "      <td>2.20</td>\n",
              "      <td>2.21</td>\n",
              "      <td>0.22</td>\n",
              "      <td>2.35</td>\n",
              "      <td>3.05</td>\n",
              "      <td>0.79</td>\n",
              "      <td>3.08</td>\n",
              "      <td>520</td>\n",
              "      <td>2</td>\n",
              "    </tr>\n",
              "    <tr>\n",
              "      <th>37</th>\n",
              "      <td>12.85</td>\n",
              "      <td>3.27</td>\n",
              "      <td>2.58</td>\n",
              "      <td>22.0</td>\n",
              "      <td>106</td>\n",
              "      <td>1.65</td>\n",
              "      <td>0.60</td>\n",
              "      <td>0.60</td>\n",
              "      <td>0.96</td>\n",
              "      <td>5.58</td>\n",
              "      <td>0.87</td>\n",
              "      <td>2.11</td>\n",
              "      <td>570</td>\n",
              "      <td>3</td>\n",
              "    </tr>\n",
              "    <tr>\n",
              "      <th>38</th>\n",
              "      <td>14.19</td>\n",
              "      <td>1.59</td>\n",
              "      <td>2.48</td>\n",
              "      <td>16.5</td>\n",
              "      <td>108</td>\n",
              "      <td>3.30</td>\n",
              "      <td>3.93</td>\n",
              "      <td>0.32</td>\n",
              "      <td>1.86</td>\n",
              "      <td>8.70</td>\n",
              "      <td>1.23</td>\n",
              "      <td>2.82</td>\n",
              "      <td>1680</td>\n",
              "      <td>1</td>\n",
              "    </tr>\n",
              "    <tr>\n",
              "      <th>39</th>\n",
              "      <td>14.23</td>\n",
              "      <td>1.71</td>\n",
              "      <td>2.43</td>\n",
              "      <td>15.6</td>\n",
              "      <td>127</td>\n",
              "      <td>2.80</td>\n",
              "      <td>3.06</td>\n",
              "      <td>0.28</td>\n",
              "      <td>2.29</td>\n",
              "      <td>5.64</td>\n",
              "      <td>1.04</td>\n",
              "      <td>3.92</td>\n",
              "      <td>1065</td>\n",
              "      <td>1</td>\n",
              "    </tr>\n",
              "    <tr>\n",
              "      <th>40</th>\n",
              "      <td>13.78</td>\n",
              "      <td>2.76</td>\n",
              "      <td>2.30</td>\n",
              "      <td>22.0</td>\n",
              "      <td>90</td>\n",
              "      <td>1.35</td>\n",
              "      <td>0.68</td>\n",
              "      <td>0.41</td>\n",
              "      <td>1.03</td>\n",
              "      <td>9.58</td>\n",
              "      <td>0.70</td>\n",
              "      <td>1.68</td>\n",
              "      <td>615</td>\n",
              "      <td>3</td>\n",
              "    </tr>\n",
              "  </tbody>\n",
              "</table>\n",
              "</div>"
            ],
            "text/plain": [
              "    Alcohol  Malic_Acid   Ash  ...  OD280  Proline  Customer_Segment\n",
              "36    11.84        0.89  2.58  ...   3.08      520                 2\n",
              "37    12.85        3.27  2.58  ...   2.11      570                 3\n",
              "38    14.19        1.59  2.48  ...   2.82     1680                 1\n",
              "39    14.23        1.71  2.43  ...   3.92     1065                 1\n",
              "40    13.78        2.76  2.30  ...   1.68      615                 3\n",
              "\n",
              "[5 rows x 14 columns]"
            ]
          },
          "metadata": {},
          "execution_count": 4
        }
      ]
    },
    {
      "cell_type": "code",
      "metadata": {
        "id": "gSql2TZbcWOd"
      },
      "source": [
        "norm_train_data = []\n",
        "norm_test_data = []\n",
        "for i in range(n_splits): \n",
        "  scaler = StandardScaler()\n",
        "  transformer = scaler.fit(train_data[i])\n",
        "  train_temp = pd.DataFrame(transformer.transform(train_data[i]), columns=train_data[i].columns, index=train_data[i].index) \n",
        "  test_temp = pd.DataFrame(transformer.transform(test_data[i]), columns=test_data[i].columns, index=test_data[i].index)\n",
        "  norm_train_data.append(train_temp)\n",
        "  norm_test_data.append(test_temp)\n"
      ],
      "execution_count": null,
      "outputs": []
    },
    {
      "cell_type": "markdown",
      "metadata": {
        "id": "UZ0W0hPA08mb"
      },
      "source": [
        "##Step 4: Training and calculating accuracy (have PCA)"
      ]
    },
    {
      "cell_type": "code",
      "metadata": {
        "colab": {
          "base_uri": "https://localhost:8080/"
        },
        "id": "4H4DwcQf05d9",
        "outputId": "2cff5ab2-10d1-4bb1-bce5-830dd23b6fdd"
      },
      "source": [
        "col = list(data.columns)\n",
        "X_tag = col[0:len(col) - 1]\n",
        "y_tag = [col[len(col) - 1]]\n",
        "y_tag"
      ],
      "execution_count": null,
      "outputs": [
        {
          "output_type": "execute_result",
          "data": {
            "text/plain": [
              "['Customer_Segment']"
            ]
          },
          "metadata": {},
          "execution_count": 6
        }
      ]
    },
    {
      "cell_type": "code",
      "metadata": {
        "id": "Quxltr1ButhP"
      },
      "source": [
        "def train_and_predict(norm_train_data, norm_test_data, n_splits, model, use_PCA=False, num_components=2):\n",
        "  y_predict = []\n",
        "  for i in range(n_splits):\n",
        "\n",
        "    if use_PCA:\n",
        "      pca = PCA(n_components=num_components)\n",
        "      pca = pca.fit(norm_train_data[i][X_tag])\n",
        "      X_train = pca.transform(norm_train_data[i][X_tag])\n",
        "      X_test = pca.transform(norm_test_data[i][X_tag])\n",
        "    else:\n",
        "      X_train = norm_train_data[i][X_tag]\n",
        "      X_test = norm_test_data[i][X_tag]\n",
        "\n",
        "    y_train = np.ravel(norm_train_data[i][y_tag])\n",
        "    y_train_round = [round(y,0) for y in y_train]\n",
        "\n",
        "    y_pred = model.fit(X_train, y_train_round).predict(X_test)\n",
        "    y_predict.append(y_pred)\n",
        "\n",
        "  return y_predict"
      ],
      "execution_count": null,
      "outputs": []
    },
    {
      "cell_type": "code",
      "metadata": {
        "id": "EE3MSw3V19bU"
      },
      "source": [
        "def accuracyCalc(y_predict, norm_test_data, n_splits):\n",
        "  accuracy = 0\n",
        "  for i in range(n_splits):\n",
        "    \n",
        "    y_test = np.ravel(norm_test_data[i][y_tag])\n",
        "    y_test_round = [round(y,0) for y in y_test]\n",
        "  \n",
        "    acc = accuracy_score(y_test_round,  y_predict[i])\n",
        "    accuracy += acc\n",
        "  accuracy = accuracy / n_splits * 100\n",
        "  return accuracy"
      ],
      "execution_count": null,
      "outputs": []
    },
    {
      "cell_type": "code",
      "metadata": {
        "id": "4GULpCZUo9ra"
      },
      "source": [
        "out = open('/content/drive/MyDrive/School/Python_for_ML/Assignment_6/Data/Accuracy_with_and_without_PCA.txt', 'w')"
      ],
      "execution_count": null,
      "outputs": []
    },
    {
      "cell_type": "markdown",
      "metadata": {
        "id": "Q1Ev-QCk5LEw"
      },
      "source": [
        "##a.Gaussian Naive Bayes"
      ]
    },
    {
      "cell_type": "code",
      "metadata": {
        "colab": {
          "base_uri": "https://localhost:8080/"
        },
        "id": "Fw_CD2gY5Kff",
        "outputId": "070d5751-d49c-4ec3-f539-6d11274bb718"
      },
      "source": [
        "model = GaussianNB()\n",
        "out.write('- Gaussian Naive Bayes: \\n')\n",
        "y_predict1 = train_and_predict(norm_train_data, norm_test_data, n_splits, model)\n",
        "acc1 = accuracyCalc(y_predict1, norm_test_data, n_splits)\n",
        "out.write('+ Accuracy without PCA: ' + str(acc1) + '\\n')\n",
        "y_predict2 = train_and_predict(norm_train_data, norm_test_data, n_splits, model, True, 10)\n",
        "acc2 = accuracyCalc(y_predict2, norm_test_data, n_splits)\n",
        "out.write('+ Accuracy with PCA: ' + str(acc2) + '\\n')\n",
        "out.write('\\n')"
      ],
      "execution_count": null,
      "outputs": [
        {
          "output_type": "execute_result",
          "data": {
            "text/plain": [
              "1"
            ]
          },
          "metadata": {},
          "execution_count": 10
        }
      ]
    },
    {
      "cell_type": "markdown",
      "metadata": {
        "id": "_fbmiaqeb0NA"
      },
      "source": [
        "##b.Logistic Regression"
      ]
    },
    {
      "cell_type": "code",
      "metadata": {
        "colab": {
          "base_uri": "https://localhost:8080/"
        },
        "id": "mU4Zqbn9b6Xt",
        "outputId": "3b5380cf-5546-49e5-e136-5feac0b6f457"
      },
      "source": [
        "model = LogisticRegression(random_state=0)\n",
        "out.write('- Logistic Regression: \\n')\n",
        "y_predict1 = train_and_predict(norm_train_data, norm_test_data, n_splits, model)\n",
        "acc1 = accuracyCalc(y_predict1, norm_test_data, n_splits)\n",
        "out.write('+ Accuracy without PCA: ' + str(acc1) + '\\n')\n",
        "y_predict2 = train_and_predict(norm_train_data, norm_test_data, n_splits, model, True, 10)\n",
        "acc2 = accuracyCalc(y_predict2, norm_test_data, n_splits)\n",
        "out.write('+ Accuracy with PCA: ' + str(acc2) + '\\n')\n",
        "out.write('\\n')"
      ],
      "execution_count": null,
      "outputs": [
        {
          "output_type": "execute_result",
          "data": {
            "text/plain": [
              "1"
            ]
          },
          "metadata": {},
          "execution_count": 11
        }
      ]
    },
    {
      "cell_type": "markdown",
      "metadata": {
        "id": "uQ1cNj1GcvpA"
      },
      "source": [
        "##c.K-Nearest Neighbors"
      ]
    },
    {
      "cell_type": "code",
      "metadata": {
        "colab": {
          "base_uri": "https://localhost:8080/"
        },
        "id": "7JatLNLSc0uE",
        "outputId": "6efdf95a-8b88-4052-893b-7511c8b1f90a"
      },
      "source": [
        "model = KNeighborsClassifier(n_neighbors=3)\n",
        "out.write('- K-Nearest Neighbors: \\n')\n",
        "y_predict1 = train_and_predict(norm_train_data, norm_test_data, n_splits, model)\n",
        "acc1 = accuracyCalc(y_predict1, norm_test_data, n_splits)\n",
        "out.write('+ Accuracy without PCA: ' + str(acc1) + '\\n')\n",
        "y_predict2 = train_and_predict(norm_train_data, norm_test_data, n_splits, model, True, 10)\n",
        "acc2 = accuracyCalc(y_predict2, norm_test_data, n_splits)\n",
        "out.write('+ Accuracy with PCA: ' + str(acc2) + '\\n')\n",
        "out.write('\\n')"
      ],
      "execution_count": null,
      "outputs": [
        {
          "output_type": "execute_result",
          "data": {
            "text/plain": [
              "1"
            ]
          },
          "metadata": {},
          "execution_count": 12
        }
      ]
    },
    {
      "cell_type": "markdown",
      "metadata": {
        "id": "ioo_AgxZdGlh"
      },
      "source": [
        "##d.Support Vector Machine"
      ]
    },
    {
      "cell_type": "code",
      "metadata": {
        "colab": {
          "base_uri": "https://localhost:8080/"
        },
        "id": "12cGAIKGdLV_",
        "outputId": "4cf1fb20-a503-4fec-b02d-a8485d06e932"
      },
      "source": [
        "model = svm.SVC()\n",
        "out.write('- Support Vector Machine: \\n')\n",
        "y_predict1 = train_and_predict(norm_train_data, norm_test_data, n_splits, model)\n",
        "acc1 = accuracyCalc(y_predict1, norm_test_data, n_splits)\n",
        "out.write('+ Accuracy without PCA: ' + str(acc1) + '\\n')\n",
        "y_predict2 = train_and_predict(norm_train_data, norm_test_data, n_splits, model, True, 10)\n",
        "acc2 = accuracyCalc(y_predict2, norm_test_data, n_splits)\n",
        "out.write('+ Accuracy with PCA: ' + str(acc2) + '\\n')\n",
        "out.write('\\n')"
      ],
      "execution_count": null,
      "outputs": [
        {
          "output_type": "execute_result",
          "data": {
            "text/plain": [
              "1"
            ]
          },
          "metadata": {},
          "execution_count": 13
        }
      ]
    },
    {
      "cell_type": "markdown",
      "metadata": {
        "id": "Jo73QdS3dbT9"
      },
      "source": [
        "##e.Decision Tree"
      ]
    },
    {
      "cell_type": "code",
      "metadata": {
        "colab": {
          "base_uri": "https://localhost:8080/"
        },
        "id": "1GXdXreodh9t",
        "outputId": "496cdfc9-7bac-4be5-bb7f-d66fdb90bb33"
      },
      "source": [
        "model = tree.DecisionTreeClassifier()\n",
        "out.write('- Decision Tree: \\n')\n",
        "y_predict1 = train_and_predict(norm_train_data, norm_test_data, n_splits, model)\n",
        "acc1 = accuracyCalc(y_predict1, norm_test_data, n_splits)\n",
        "out.write('+ Accuracy without PCA: ' + str(acc1) + '\\n')\n",
        "y_predict2 = train_and_predict(norm_train_data, norm_test_data, n_splits, model, True, 10)\n",
        "acc2 = accuracyCalc(y_predict2, norm_test_data, n_splits)\n",
        "out.write('+ Accuracy with PCA: ' + str(acc2) + '\\n')\n",
        "out.write('\\n')"
      ],
      "execution_count": null,
      "outputs": [
        {
          "output_type": "execute_result",
          "data": {
            "text/plain": [
              "1"
            ]
          },
          "metadata": {},
          "execution_count": 14
        }
      ]
    },
    {
      "cell_type": "markdown",
      "metadata": {
        "id": "KsSvsxwFduPQ"
      },
      "source": [
        "##f.Random Forest"
      ]
    },
    {
      "cell_type": "code",
      "metadata": {
        "colab": {
          "base_uri": "https://localhost:8080/"
        },
        "id": "oNiBFJJgd1cG",
        "outputId": "2e3f8a37-33cd-432f-b010-fc36bf3a9c5d"
      },
      "source": [
        "model = RandomForestClassifier(max_depth=2, random_state=0)\n",
        "out.write('- Random Forest: \\n')\n",
        "y_predict1 = train_and_predict(norm_train_data, norm_test_data, n_splits, model)\n",
        "acc1 = accuracyCalc(y_predict1, norm_test_data, n_splits)\n",
        "out.write('+ Accuracy without PCA: ' + str(acc1) + '\\n')\n",
        "y_predict2 = train_and_predict(norm_train_data, norm_test_data, n_splits, model, True, 10)\n",
        "acc2 = accuracyCalc(y_predict2, norm_test_data, n_splits)\n",
        "out.write('+ Accuracy with PCA: ' + str(acc2) + '\\n')\n",
        "out.write('\\n')"
      ],
      "execution_count": null,
      "outputs": [
        {
          "output_type": "execute_result",
          "data": {
            "text/plain": [
              "1"
            ]
          },
          "metadata": {},
          "execution_count": 15
        }
      ]
    },
    {
      "cell_type": "code",
      "metadata": {
        "id": "mx85t2FAqA-V"
      },
      "source": [
        "out.close()"
      ],
      "execution_count": null,
      "outputs": []
    }
  ]
}