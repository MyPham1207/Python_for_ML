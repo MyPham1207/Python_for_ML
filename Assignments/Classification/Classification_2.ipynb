{
  "nbformat": 4,
  "nbformat_minor": 0,
  "metadata": {
    "colab": {
      "name": "Classification_2.ipynb",
      "provenance": [],
      "collapsed_sections": [],
      "authorship_tag": "ABX9TyPQqiY+MjtMd2WoryOG/OfF",
      "include_colab_link": true
    },
    "kernelspec": {
      "display_name": "Python 3",
      "name": "python3"
    },
    "language_info": {
      "name": "python"
    }
  },
  "cells": [
    {
      "cell_type": "markdown",
      "metadata": {
        "id": "view-in-github",
        "colab_type": "text"
      },
      "source": [
        "<a href=\"https://colab.research.google.com/github/MyPham1207/Python_for_ML/blob/main/Assignments/Classification/Classification_2.ipynb\" target=\"_parent\"><img src=\"https://colab.research.google.com/assets/colab-badge.svg\" alt=\"Open In Colab\"/></a>"
      ]
    },
    {
      "cell_type": "code",
      "metadata": {
        "colab": {
          "base_uri": "https://localhost:8080/"
        },
        "id": "BLQForWOqxSg",
        "outputId": "0482855d-08d4-4da3-c84a-37cbf0426630"
      },
      "source": [
        "from google.colab import drive\n",
        "drive.mount('/content/drive', force_remount=True)\n",
        "\n",
        "import pandas as pd\n",
        "\n",
        "from sklearn.model_selection import KFold\n",
        "from sklearn.preprocessing import StandardScaler\n",
        "from sklearn.naive_bayes import GaussianNB\n",
        "from sklearn.linear_model import LogisticRegression\n",
        "from sklearn import svm\n",
        "from sklearn.neighbors import KNeighborsClassifier\n",
        "from sklearn import tree\n",
        "from sklearn.ensemble import RandomForestClassifier\n",
        "from sklearn.metrics import accuracy_score\n",
        "from sklearn.decomposition import PCA\n",
        "\n",
        "import numpy as np"
      ],
      "execution_count": null,
      "outputs": [
        {
          "output_type": "stream",
          "name": "stdout",
          "text": [
            "Mounted at /content/drive\n"
          ]
        }
      ]
    },
    {
      "cell_type": "markdown",
      "metadata": {
        "id": "S8iaINSrwapv"
      },
      "source": [
        "##Step 1: Load data"
      ]
    },
    {
      "cell_type": "code",
      "metadata": {
        "colab": {
          "base_uri": "https://localhost:8080/",
          "height": 224
        },
        "id": "nIs7ptE1vnVT",
        "outputId": "735efa57-69a0-429e-c979-6378320be3cc"
      },
      "source": [
        "data = pd.read_csv('/content/drive/MyDrive/School/Python_for_ML/Assignment_6/Data/Wine.csv')\n",
        "# shuffle the data or else the data after split will be skewed\n",
        "data = data.sample(frac=1).reset_index(drop=True)\n",
        "data.head()"
      ],
      "execution_count": null,
      "outputs": [
        {
          "output_type": "execute_result",
          "data": {
            "text/html": [
              "<div>\n",
              "<style scoped>\n",
              "    .dataframe tbody tr th:only-of-type {\n",
              "        vertical-align: middle;\n",
              "    }\n",
              "\n",
              "    .dataframe tbody tr th {\n",
              "        vertical-align: top;\n",
              "    }\n",
              "\n",
              "    .dataframe thead th {\n",
              "        text-align: right;\n",
              "    }\n",
              "</style>\n",
              "<table border=\"1\" class=\"dataframe\">\n",
              "  <thead>\n",
              "    <tr style=\"text-align: right;\">\n",
              "      <th></th>\n",
              "      <th>Alcohol</th>\n",
              "      <th>Malic_Acid</th>\n",
              "      <th>Ash</th>\n",
              "      <th>Ash_Alcanity</th>\n",
              "      <th>Magnesium</th>\n",
              "      <th>Total_Phenols</th>\n",
              "      <th>Flavanoids</th>\n",
              "      <th>Nonflavanoid_Phenols</th>\n",
              "      <th>Proanthocyanins</th>\n",
              "      <th>Color_Intensity</th>\n",
              "      <th>Hue</th>\n",
              "      <th>OD280</th>\n",
              "      <th>Proline</th>\n",
              "      <th>Customer_Segment</th>\n",
              "    </tr>\n",
              "  </thead>\n",
              "  <tbody>\n",
              "    <tr>\n",
              "      <th>0</th>\n",
              "      <td>12.60</td>\n",
              "      <td>1.34</td>\n",
              "      <td>1.90</td>\n",
              "      <td>18.5</td>\n",
              "      <td>88</td>\n",
              "      <td>1.45</td>\n",
              "      <td>1.36</td>\n",
              "      <td>0.29</td>\n",
              "      <td>1.35</td>\n",
              "      <td>2.45</td>\n",
              "      <td>1.04</td>\n",
              "      <td>2.77</td>\n",
              "      <td>562</td>\n",
              "      <td>2</td>\n",
              "    </tr>\n",
              "    <tr>\n",
              "      <th>1</th>\n",
              "      <td>13.86</td>\n",
              "      <td>1.51</td>\n",
              "      <td>2.67</td>\n",
              "      <td>25.0</td>\n",
              "      <td>86</td>\n",
              "      <td>2.95</td>\n",
              "      <td>2.86</td>\n",
              "      <td>0.21</td>\n",
              "      <td>1.87</td>\n",
              "      <td>3.38</td>\n",
              "      <td>1.36</td>\n",
              "      <td>3.16</td>\n",
              "      <td>410</td>\n",
              "      <td>2</td>\n",
              "    </tr>\n",
              "    <tr>\n",
              "      <th>2</th>\n",
              "      <td>13.07</td>\n",
              "      <td>1.50</td>\n",
              "      <td>2.10</td>\n",
              "      <td>15.5</td>\n",
              "      <td>98</td>\n",
              "      <td>2.40</td>\n",
              "      <td>2.64</td>\n",
              "      <td>0.28</td>\n",
              "      <td>1.37</td>\n",
              "      <td>3.70</td>\n",
              "      <td>1.18</td>\n",
              "      <td>2.69</td>\n",
              "      <td>1020</td>\n",
              "      <td>1</td>\n",
              "    </tr>\n",
              "    <tr>\n",
              "      <th>3</th>\n",
              "      <td>14.20</td>\n",
              "      <td>1.76</td>\n",
              "      <td>2.45</td>\n",
              "      <td>15.2</td>\n",
              "      <td>112</td>\n",
              "      <td>3.27</td>\n",
              "      <td>3.39</td>\n",
              "      <td>0.34</td>\n",
              "      <td>1.97</td>\n",
              "      <td>6.75</td>\n",
              "      <td>1.05</td>\n",
              "      <td>2.85</td>\n",
              "      <td>1450</td>\n",
              "      <td>1</td>\n",
              "    </tr>\n",
              "    <tr>\n",
              "      <th>4</th>\n",
              "      <td>11.66</td>\n",
              "      <td>1.88</td>\n",
              "      <td>1.92</td>\n",
              "      <td>16.0</td>\n",
              "      <td>97</td>\n",
              "      <td>1.61</td>\n",
              "      <td>1.57</td>\n",
              "      <td>0.34</td>\n",
              "      <td>1.15</td>\n",
              "      <td>3.80</td>\n",
              "      <td>1.23</td>\n",
              "      <td>2.14</td>\n",
              "      <td>428</td>\n",
              "      <td>2</td>\n",
              "    </tr>\n",
              "  </tbody>\n",
              "</table>\n",
              "</div>"
            ],
            "text/plain": [
              "   Alcohol  Malic_Acid   Ash  ...  OD280  Proline  Customer_Segment\n",
              "0    12.60        1.34  1.90  ...   2.77      562                 2\n",
              "1    13.86        1.51  2.67  ...   3.16      410                 2\n",
              "2    13.07        1.50  2.10  ...   2.69     1020                 1\n",
              "3    14.20        1.76  2.45  ...   2.85     1450                 1\n",
              "4    11.66        1.88  1.92  ...   2.14      428                 2\n",
              "\n",
              "[5 rows x 14 columns]"
            ]
          },
          "metadata": {},
          "execution_count": 186
        }
      ]
    },
    {
      "cell_type": "markdown",
      "metadata": {
        "id": "WnLTSem2whQe"
      },
      "source": [
        "##Step 2: Split the data and standardization"
      ]
    },
    {
      "cell_type": "code",
      "metadata": {
        "id": "yJaML6LQwOey"
      },
      "source": [
        "# Split the data\n",
        "n_splits = 5\n",
        "kf = KFold(n_splits)\n",
        "train_index = []\n",
        "test_index = []\n",
        "for train, test in kf.split(data):\n",
        "  train_index.append(train)\n",
        "  test_index.append(test)"
      ],
      "execution_count": null,
      "outputs": []
    },
    {
      "cell_type": "code",
      "metadata": {
        "colab": {
          "base_uri": "https://localhost:8080/",
          "height": 224
        },
        "id": "-jZfxX_OwlIj",
        "outputId": "9457c198-6145-44ba-9c60-3198bef83956"
      },
      "source": [
        "train_data = []\n",
        "test_data = []\n",
        "for i in range(n_splits):\n",
        "  train_data.append(data.iloc[train_index[i]])\n",
        "  test_data.append(data.iloc[test_index[i]])\n",
        "\n",
        "train_data[0].head()"
      ],
      "execution_count": null,
      "outputs": [
        {
          "output_type": "execute_result",
          "data": {
            "text/html": [
              "<div>\n",
              "<style scoped>\n",
              "    .dataframe tbody tr th:only-of-type {\n",
              "        vertical-align: middle;\n",
              "    }\n",
              "\n",
              "    .dataframe tbody tr th {\n",
              "        vertical-align: top;\n",
              "    }\n",
              "\n",
              "    .dataframe thead th {\n",
              "        text-align: right;\n",
              "    }\n",
              "</style>\n",
              "<table border=\"1\" class=\"dataframe\">\n",
              "  <thead>\n",
              "    <tr style=\"text-align: right;\">\n",
              "      <th></th>\n",
              "      <th>Alcohol</th>\n",
              "      <th>Malic_Acid</th>\n",
              "      <th>Ash</th>\n",
              "      <th>Ash_Alcanity</th>\n",
              "      <th>Magnesium</th>\n",
              "      <th>Total_Phenols</th>\n",
              "      <th>Flavanoids</th>\n",
              "      <th>Nonflavanoid_Phenols</th>\n",
              "      <th>Proanthocyanins</th>\n",
              "      <th>Color_Intensity</th>\n",
              "      <th>Hue</th>\n",
              "      <th>OD280</th>\n",
              "      <th>Proline</th>\n",
              "      <th>Customer_Segment</th>\n",
              "    </tr>\n",
              "  </thead>\n",
              "  <tbody>\n",
              "    <tr>\n",
              "      <th>36</th>\n",
              "      <td>13.49</td>\n",
              "      <td>3.59</td>\n",
              "      <td>2.19</td>\n",
              "      <td>19.5</td>\n",
              "      <td>88</td>\n",
              "      <td>1.62</td>\n",
              "      <td>0.48</td>\n",
              "      <td>0.58</td>\n",
              "      <td>0.88</td>\n",
              "      <td>5.70</td>\n",
              "      <td>0.81</td>\n",
              "      <td>1.82</td>\n",
              "      <td>580</td>\n",
              "      <td>3</td>\n",
              "    </tr>\n",
              "    <tr>\n",
              "      <th>37</th>\n",
              "      <td>11.61</td>\n",
              "      <td>1.35</td>\n",
              "      <td>2.70</td>\n",
              "      <td>20.0</td>\n",
              "      <td>94</td>\n",
              "      <td>2.74</td>\n",
              "      <td>2.92</td>\n",
              "      <td>0.29</td>\n",
              "      <td>2.49</td>\n",
              "      <td>2.65</td>\n",
              "      <td>0.96</td>\n",
              "      <td>3.26</td>\n",
              "      <td>680</td>\n",
              "      <td>2</td>\n",
              "    </tr>\n",
              "    <tr>\n",
              "      <th>38</th>\n",
              "      <td>13.51</td>\n",
              "      <td>1.80</td>\n",
              "      <td>2.65</td>\n",
              "      <td>19.0</td>\n",
              "      <td>110</td>\n",
              "      <td>2.35</td>\n",
              "      <td>2.53</td>\n",
              "      <td>0.29</td>\n",
              "      <td>1.54</td>\n",
              "      <td>4.20</td>\n",
              "      <td>1.10</td>\n",
              "      <td>2.87</td>\n",
              "      <td>1095</td>\n",
              "      <td>1</td>\n",
              "    </tr>\n",
              "    <tr>\n",
              "      <th>39</th>\n",
              "      <td>13.64</td>\n",
              "      <td>3.10</td>\n",
              "      <td>2.56</td>\n",
              "      <td>15.2</td>\n",
              "      <td>116</td>\n",
              "      <td>2.70</td>\n",
              "      <td>3.03</td>\n",
              "      <td>0.17</td>\n",
              "      <td>1.66</td>\n",
              "      <td>5.10</td>\n",
              "      <td>0.96</td>\n",
              "      <td>3.36</td>\n",
              "      <td>845</td>\n",
              "      <td>1</td>\n",
              "    </tr>\n",
              "    <tr>\n",
              "      <th>40</th>\n",
              "      <td>12.08</td>\n",
              "      <td>1.83</td>\n",
              "      <td>2.32</td>\n",
              "      <td>18.5</td>\n",
              "      <td>81</td>\n",
              "      <td>1.60</td>\n",
              "      <td>1.50</td>\n",
              "      <td>0.52</td>\n",
              "      <td>1.64</td>\n",
              "      <td>2.40</td>\n",
              "      <td>1.08</td>\n",
              "      <td>2.27</td>\n",
              "      <td>480</td>\n",
              "      <td>2</td>\n",
              "    </tr>\n",
              "  </tbody>\n",
              "</table>\n",
              "</div>"
            ],
            "text/plain": [
              "    Alcohol  Malic_Acid   Ash  ...  OD280  Proline  Customer_Segment\n",
              "36    13.49        3.59  2.19  ...   1.82      580                 3\n",
              "37    11.61        1.35  2.70  ...   3.26      680                 2\n",
              "38    13.51        1.80  2.65  ...   2.87     1095                 1\n",
              "39    13.64        3.10  2.56  ...   3.36      845                 1\n",
              "40    12.08        1.83  2.32  ...   2.27      480                 2\n",
              "\n",
              "[5 rows x 14 columns]"
            ]
          },
          "metadata": {},
          "execution_count": 188
        }
      ]
    },
    {
      "cell_type": "code",
      "metadata": {
        "id": "gSql2TZbcWOd"
      },
      "source": [
        "norm_train_data = []\n",
        "norm_test_data = []\n",
        "for i in range(n_splits): \n",
        "  scaler = StandardScaler()\n",
        "  transformer = scaler.fit(train_data[i])\n",
        "  train_temp = pd.DataFrame(transformer.transform(train_data[i]), columns=train_data[i].columns, index=train_data[i].index) \n",
        "  test_temp = pd.DataFrame(transformer.transform(test_data[i]), columns=test_data[i].columns, index=test_data[i].index)\n",
        "  norm_train_data.append(train_temp)\n",
        "  norm_test_data.append(train_temp)\n"
      ],
      "execution_count": null,
      "outputs": []
    },
    {
      "cell_type": "markdown",
      "metadata": {
        "id": "UZ0W0hPA08mb"
      },
      "source": [
        "##Step 4: Training and calculating accuracy (have PCA)"
      ]
    },
    {
      "cell_type": "code",
      "metadata": {
        "colab": {
          "base_uri": "https://localhost:8080/"
        },
        "id": "4H4DwcQf05d9",
        "outputId": "831f5a1b-f720-47a4-8983-415c20d15d3a"
      },
      "source": [
        "col = list(data.columns)\n",
        "X_tag = col[0:len(col) - 1]\n",
        "y_tag = [col[len(col) - 1]]\n",
        "y_tag"
      ],
      "execution_count": null,
      "outputs": [
        {
          "output_type": "execute_result",
          "data": {
            "text/plain": [
              "['Customer_Segment']"
            ]
          },
          "metadata": {},
          "execution_count": 190
        }
      ]
    },
    {
      "cell_type": "code",
      "metadata": {
        "id": "Quxltr1ButhP"
      },
      "source": [
        "def train_and_predict(norm_train_data, norm_test_data, n_splits, model, use_PCA=False, num_components=2):\n",
        "  y_predict = []\n",
        "  for i in range(n_splits):\n",
        "\n",
        "    if use_PCA:\n",
        "      pca = PCA(n_components=num_components)\n",
        "      pca = pca.fit(norm_train_data[i][X_tag])\n",
        "      X_train = pca.transform(norm_train_data[i][X_tag])\n",
        "      X_test = pca.transform(norm_test_data[i][X_tag])\n",
        "    else:\n",
        "      X_train = norm_train_data[i][X_tag]\n",
        "      X_test = norm_test_data[i][X_tag]\n",
        "\n",
        "    y_train = np.ravel(norm_train_data[i][y_tag])\n",
        "    y_train_round = [round(y,0) for y in y_train]\n",
        "\n",
        "    y_pred = model.fit(X_train, y_train_round).predict(X_test)\n",
        "    y_predict.append(y_pred)\n",
        "\n",
        "  return y_predict"
      ],
      "execution_count": null,
      "outputs": []
    },
    {
      "cell_type": "code",
      "metadata": {
        "id": "EE3MSw3V19bU"
      },
      "source": [
        "def accuracyCalc(y_predict, norm_test_data, n_splits):\n",
        "  accuracy = 0\n",
        "  for i in range(n_splits):\n",
        "    \n",
        "    y_test = np.ravel(norm_test_data[i][y_tag])\n",
        "    y_test_round = [round(y,0) for y in y_test]\n",
        "  \n",
        "    acc = accuracy_score(y_test_round,  y_predict[i])\n",
        "    accuracy += acc\n",
        "  accuracy = accuracy / n_splits * 100\n",
        "  return accuracy"
      ],
      "execution_count": null,
      "outputs": []
    },
    {
      "cell_type": "code",
      "metadata": {
        "id": "4GULpCZUo9ra"
      },
      "source": [
        "out = open('/content/drive/MyDrive/School/Python_for_ML/Assignment_6/Data/Accuracy_with_and_without_PCA.txt', 'w')"
      ],
      "execution_count": null,
      "outputs": []
    },
    {
      "cell_type": "markdown",
      "metadata": {
        "id": "Q1Ev-QCk5LEw"
      },
      "source": [
        "##a.Gaussian Naive Bayes"
      ]
    },
    {
      "cell_type": "code",
      "metadata": {
        "colab": {
          "base_uri": "https://localhost:8080/"
        },
        "id": "Fw_CD2gY5Kff",
        "outputId": "276734ff-fce9-4894-935e-7ab434b54511"
      },
      "source": [
        "model = GaussianNB()\n",
        "out.write('- Gaussian Naive Bayes: \\n')\n",
        "y_predict1 = train_and_predict(norm_train_data, norm_test_data, n_splits, model)\n",
        "acc1 = accuracyCalc(y_predict1, norm_test_data, n_splits)\n",
        "out.write('+ Accuracy without PCA: ' + str(acc1) + '\\n')\n",
        "y_predict2 = train_and_predict(norm_train_data, norm_test_data, n_splits, model, True, 10)\n",
        "acc2 = accuracyCalc(y_predict2, norm_test_data, n_splits)\n",
        "out.write('+ Accuracy with PCA: ' + str(acc2) + '\\n')\n",
        "out.write('\\n')"
      ],
      "execution_count": null,
      "outputs": [
        {
          "output_type": "execute_result",
          "data": {
            "text/plain": [
              "1"
            ]
          },
          "metadata": {},
          "execution_count": 194
        }
      ]
    },
    {
      "cell_type": "markdown",
      "metadata": {
        "id": "_fbmiaqeb0NA"
      },
      "source": [
        "##b.Logistic Regression"
      ]
    },
    {
      "cell_type": "code",
      "metadata": {
        "colab": {
          "base_uri": "https://localhost:8080/"
        },
        "id": "mU4Zqbn9b6Xt",
        "outputId": "0ae9d211-04be-4b10-82bb-d583fa47eef4"
      },
      "source": [
        "model = LogisticRegression(random_state=0)\n",
        "out.write('- Logistic Regression: \\n')\n",
        "y_predict1 = train_and_predict(norm_train_data, norm_test_data, n_splits, model)\n",
        "acc1 = accuracyCalc(y_predict1, norm_test_data, n_splits)\n",
        "out.write('+ Accuracy without PCA: ' + str(acc1) + '\\n')\n",
        "y_predict2 = train_and_predict(norm_train_data, norm_test_data, n_splits, model, True, 10)\n",
        "acc2 = accuracyCalc(y_predict2, norm_test_data, n_splits)\n",
        "out.write('+ Accuracy with PCA: ' + str(acc2) + '\\n')\n",
        "out.write('\\n')"
      ],
      "execution_count": null,
      "outputs": [
        {
          "output_type": "execute_result",
          "data": {
            "text/plain": [
              "1"
            ]
          },
          "metadata": {},
          "execution_count": 195
        }
      ]
    },
    {
      "cell_type": "markdown",
      "metadata": {
        "id": "uQ1cNj1GcvpA"
      },
      "source": [
        "##c.K-Nearest Neighbors"
      ]
    },
    {
      "cell_type": "code",
      "metadata": {
        "colab": {
          "base_uri": "https://localhost:8080/"
        },
        "id": "7JatLNLSc0uE",
        "outputId": "1f656deb-bd7f-4f54-ae65-186767ee3b5a"
      },
      "source": [
        "model = KNeighborsClassifier(n_neighbors=3)\n",
        "out.write('- K-Nearest Neighbors: \\n')\n",
        "y_predict1 = train_and_predict(norm_train_data, norm_test_data, n_splits, model)\n",
        "acc1 = accuracyCalc(y_predict1, norm_test_data, n_splits)\n",
        "out.write('+ Accuracy without PCA: ' + str(acc1) + '\\n')\n",
        "y_predict2 = train_and_predict(norm_train_data, norm_test_data, n_splits, model, True, 10)\n",
        "acc2 = accuracyCalc(y_predict2, norm_test_data, n_splits)\n",
        "out.write('+ Accuracy with PCA: ' + str(acc2) + '\\n')\n",
        "out.write('\\n')"
      ],
      "execution_count": null,
      "outputs": [
        {
          "output_type": "execute_result",
          "data": {
            "text/plain": [
              "1"
            ]
          },
          "metadata": {},
          "execution_count": 196
        }
      ]
    },
    {
      "cell_type": "markdown",
      "metadata": {
        "id": "ioo_AgxZdGlh"
      },
      "source": [
        "##d.Support Vector Machine"
      ]
    },
    {
      "cell_type": "code",
      "metadata": {
        "colab": {
          "base_uri": "https://localhost:8080/"
        },
        "id": "12cGAIKGdLV_",
        "outputId": "c540fd55-d6e5-4253-bb51-254ce3345547"
      },
      "source": [
        "model = svm.SVC()\n",
        "out.write('- Support Vector Machine: \\n')\n",
        "y_predict1 = train_and_predict(norm_train_data, norm_test_data, n_splits, model)\n",
        "acc1 = accuracyCalc(y_predict1, norm_test_data, n_splits)\n",
        "out.write('+ Accuracy without PCA: ' + str(acc1) + '\\n')\n",
        "y_predict2 = train_and_predict(norm_train_data, norm_test_data, n_splits, model, True, 10)\n",
        "acc2 = accuracyCalc(y_predict2, norm_test_data, n_splits)\n",
        "out.write('+ Accuracy with PCA: ' + str(acc2) + '\\n')\n",
        "out.write('\\n')"
      ],
      "execution_count": null,
      "outputs": [
        {
          "output_type": "execute_result",
          "data": {
            "text/plain": [
              "1"
            ]
          },
          "metadata": {},
          "execution_count": 197
        }
      ]
    },
    {
      "cell_type": "markdown",
      "metadata": {
        "id": "Jo73QdS3dbT9"
      },
      "source": [
        "##e.Decision Tree"
      ]
    },
    {
      "cell_type": "code",
      "metadata": {
        "colab": {
          "base_uri": "https://localhost:8080/"
        },
        "id": "1GXdXreodh9t",
        "outputId": "4039b57d-3d90-4f0d-ab8a-c22d2260b9df"
      },
      "source": [
        "model = tree.DecisionTreeClassifier()\n",
        "out.write('- Decision Tree: \\n')\n",
        "y_predict1 = train_and_predict(norm_train_data, norm_test_data, n_splits, model)\n",
        "acc1 = accuracyCalc(y_predict1, norm_test_data, n_splits)\n",
        "out.write('+ Accuracy without PCA: ' + str(acc1) + '\\n')\n",
        "y_predict2 = train_and_predict(norm_train_data, norm_test_data, n_splits, model, True, 10)\n",
        "acc2 = accuracyCalc(y_predict2, norm_test_data, n_splits)\n",
        "out.write('+ Accuracy with PCA: ' + str(acc2) + '\\n')\n",
        "out.write('\\n')"
      ],
      "execution_count": null,
      "outputs": [
        {
          "output_type": "execute_result",
          "data": {
            "text/plain": [
              "1"
            ]
          },
          "metadata": {},
          "execution_count": 198
        }
      ]
    },
    {
      "cell_type": "markdown",
      "metadata": {
        "id": "KsSvsxwFduPQ"
      },
      "source": [
        "##f.Random Forest"
      ]
    },
    {
      "cell_type": "code",
      "metadata": {
        "colab": {
          "base_uri": "https://localhost:8080/"
        },
        "id": "oNiBFJJgd1cG",
        "outputId": "6297e218-abdd-41ab-a2ef-580530db0a47"
      },
      "source": [
        "model = RandomForestClassifier(max_depth=2, random_state=0)\n",
        "out.write('- Random Forest: \\n')\n",
        "y_predict1 = train_and_predict(norm_train_data, norm_test_data, n_splits, model)\n",
        "acc1 = accuracyCalc(y_predict1, norm_test_data, n_splits)\n",
        "out.write('+ Accuracy without PCA: ' + str(acc1) + '\\n')\n",
        "y_predict2 = train_and_predict(norm_train_data, norm_test_data, n_splits, model, True, 10)\n",
        "acc2 = accuracyCalc(y_predict2, norm_test_data, n_splits)\n",
        "out.write('+ Accuracy with PCA: ' + str(acc2) + '\\n')\n",
        "out.write('\\n')"
      ],
      "execution_count": null,
      "outputs": [
        {
          "output_type": "execute_result",
          "data": {
            "text/plain": [
              "1"
            ]
          },
          "metadata": {},
          "execution_count": 199
        }
      ]
    },
    {
      "cell_type": "code",
      "metadata": {
        "id": "mx85t2FAqA-V"
      },
      "source": [
        "out.close()"
      ],
      "execution_count": null,
      "outputs": []
    }
  ]
}