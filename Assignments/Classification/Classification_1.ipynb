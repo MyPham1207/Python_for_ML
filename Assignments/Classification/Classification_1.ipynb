{
  "nbformat": 4,
  "nbformat_minor": 0,
  "metadata": {
    "colab": {
      "name": "Classification_1.ipynb",
      "provenance": [],
      "collapsed_sections": [],
      "authorship_tag": "ABX9TyOOFBvkEewISrQueMXyD2xv",
      "include_colab_link": true
    },
    "kernelspec": {
      "name": "python3",
      "display_name": "Python 3"
    },
    "language_info": {
      "name": "python"
    }
  },
  "cells": [
    {
      "cell_type": "markdown",
      "metadata": {
        "id": "view-in-github",
        "colab_type": "text"
      },
      "source": [
        "<a href=\"https://colab.research.google.com/github/MyPham1207/Python_for_ML/blob/main/Assignments/Classification/Classification_1.ipynb\" target=\"_parent\"><img src=\"https://colab.research.google.com/assets/colab-badge.svg\" alt=\"Open In Colab\"/></a>"
      ]
    },
    {
      "cell_type": "code",
      "metadata": {
        "colab": {
          "base_uri": "https://localhost:8080/"
        },
        "id": "kOtlTkMACUvu",
        "outputId": "8eebb789-441a-4f78-be59-8dc0584ab5e9"
      },
      "source": [
        "from google.colab import drive\n",
        "drive.mount('/content/drive', force_remount=True)\n",
        "\n",
        "import pandas as pd\n",
        "\n",
        "from sklearn.model_selection import KFold\n",
        "from sklearn.preprocessing import MinMaxScaler\n",
        "from sklearn.naive_bayes import GaussianNB\n",
        "from sklearn.linear_model import LogisticRegression\n",
        "from sklearn import svm\n",
        "from sklearn.neighbors import KNeighborsClassifier\n",
        "from sklearn import tree\n",
        "from sklearn.ensemble import RandomForestClassifier\n",
        "from sklearn.metrics import accuracy_score\n",
        "\n",
        "import numpy as np"
      ],
      "execution_count": 1,
      "outputs": [
        {
          "output_type": "stream",
          "name": "stdout",
          "text": [
            "Mounted at /content/drive\n"
          ]
        }
      ]
    },
    {
      "cell_type": "code",
      "metadata": {
        "colab": {
          "base_uri": "https://localhost:8080/"
        },
        "id": "3fYTnqYaE90C",
        "outputId": "63cd12b3-93df-40c4-f83a-aa01f0d59b8c"
      },
      "source": [
        "cd '/content/drive/MyDrive/School/Python_for_ML/Assignment_6/Data'"
      ],
      "execution_count": 2,
      "outputs": [
        {
          "output_type": "stream",
          "name": "stdout",
          "text": [
            "/content/drive/MyDrive/School/Python_for_ML/Assignment_6/Data\n"
          ]
        }
      ]
    },
    {
      "cell_type": "markdown",
      "metadata": {
        "id": "pWCBUPylDTzg"
      },
      "source": [
        "#1.Assignment 1"
      ]
    },
    {
      "cell_type": "markdown",
      "metadata": {
        "id": "Hr20UqlfwAVW"
      },
      "source": [
        "##Step 1: Load data"
      ]
    },
    {
      "cell_type": "code",
      "metadata": {
        "id": "QTfjP0_zCZiM",
        "colab": {
          "base_uri": "https://localhost:8080/",
          "height": 204
        },
        "outputId": "bd670501-6f8b-4cd8-f241-ae4659990839"
      },
      "source": [
        "data = pd.read_csv('Social_Network_Ads.csv')\n",
        "# shuffle the data or else the data will be skewed\n",
        "data = data.sample(frac=1).reset_index(drop=True)\n",
        "data.head()"
      ],
      "execution_count": 3,
      "outputs": [
        {
          "output_type": "execute_result",
          "data": {
            "text/html": [
              "<div>\n",
              "<style scoped>\n",
              "    .dataframe tbody tr th:only-of-type {\n",
              "        vertical-align: middle;\n",
              "    }\n",
              "\n",
              "    .dataframe tbody tr th {\n",
              "        vertical-align: top;\n",
              "    }\n",
              "\n",
              "    .dataframe thead th {\n",
              "        text-align: right;\n",
              "    }\n",
              "</style>\n",
              "<table border=\"1\" class=\"dataframe\">\n",
              "  <thead>\n",
              "    <tr style=\"text-align: right;\">\n",
              "      <th></th>\n",
              "      <th>Age</th>\n",
              "      <th>EstimatedSalary</th>\n",
              "      <th>Purchased</th>\n",
              "    </tr>\n",
              "  </thead>\n",
              "  <tbody>\n",
              "    <tr>\n",
              "      <th>0</th>\n",
              "      <td>36</td>\n",
              "      <td>125000</td>\n",
              "      <td>1</td>\n",
              "    </tr>\n",
              "    <tr>\n",
              "      <th>1</th>\n",
              "      <td>41</td>\n",
              "      <td>30000</td>\n",
              "      <td>0</td>\n",
              "    </tr>\n",
              "    <tr>\n",
              "      <th>2</th>\n",
              "      <td>34</td>\n",
              "      <td>43000</td>\n",
              "      <td>0</td>\n",
              "    </tr>\n",
              "    <tr>\n",
              "      <th>3</th>\n",
              "      <td>35</td>\n",
              "      <td>38000</td>\n",
              "      <td>0</td>\n",
              "    </tr>\n",
              "    <tr>\n",
              "      <th>4</th>\n",
              "      <td>27</td>\n",
              "      <td>58000</td>\n",
              "      <td>0</td>\n",
              "    </tr>\n",
              "  </tbody>\n",
              "</table>\n",
              "</div>"
            ],
            "text/plain": [
              "   Age  EstimatedSalary  Purchased\n",
              "0   36           125000          1\n",
              "1   41            30000          0\n",
              "2   34            43000          0\n",
              "3   35            38000          0\n",
              "4   27            58000          0"
            ]
          },
          "metadata": {},
          "execution_count": 3
        }
      ]
    },
    {
      "cell_type": "markdown",
      "metadata": {
        "id": "Qeh6Tq5eGVon"
      },
      "source": [
        "##Step 2: Split and normalize data"
      ]
    },
    {
      "cell_type": "code",
      "metadata": {
        "id": "cUyXmxuLGr1K"
      },
      "source": [
        "# Split the data\n",
        "n_splits = 5\n",
        "kf = KFold(n_splits)\n",
        "train_index = []\n",
        "test_index = []\n",
        "# train_index[0] will have value range from 80 -> 399, test_index[0] will have value range from 0 -> 79\n",
        "for train, test in kf.split(data):\n",
        "  train_index.append(train)\n",
        "  test_index.append(test)"
      ],
      "execution_count": 4,
      "outputs": []
    },
    {
      "cell_type": "code",
      "metadata": {
        "colab": {
          "base_uri": "https://localhost:8080/",
          "height": 204
        },
        "id": "AAuyfiklVdQs",
        "outputId": "95894d96-facb-4e80-fd9e-2e61ef8656c5"
      },
      "source": [
        "train_data = []\n",
        "test_data = []\n",
        "for i in range(n_splits):\n",
        "  train_data.append(data.iloc[train_index[i]])\n",
        "  test_data.append(data.iloc[test_index[i]])\n",
        "\n",
        "train_data[0].head()"
      ],
      "execution_count": 5,
      "outputs": [
        {
          "output_type": "execute_result",
          "data": {
            "text/html": [
              "<div>\n",
              "<style scoped>\n",
              "    .dataframe tbody tr th:only-of-type {\n",
              "        vertical-align: middle;\n",
              "    }\n",
              "\n",
              "    .dataframe tbody tr th {\n",
              "        vertical-align: top;\n",
              "    }\n",
              "\n",
              "    .dataframe thead th {\n",
              "        text-align: right;\n",
              "    }\n",
              "</style>\n",
              "<table border=\"1\" class=\"dataframe\">\n",
              "  <thead>\n",
              "    <tr style=\"text-align: right;\">\n",
              "      <th></th>\n",
              "      <th>Age</th>\n",
              "      <th>EstimatedSalary</th>\n",
              "      <th>Purchased</th>\n",
              "    </tr>\n",
              "  </thead>\n",
              "  <tbody>\n",
              "    <tr>\n",
              "      <th>80</th>\n",
              "      <td>38</td>\n",
              "      <td>61000</td>\n",
              "      <td>0</td>\n",
              "    </tr>\n",
              "    <tr>\n",
              "      <th>81</th>\n",
              "      <td>41</td>\n",
              "      <td>79000</td>\n",
              "      <td>0</td>\n",
              "    </tr>\n",
              "    <tr>\n",
              "      <th>82</th>\n",
              "      <td>19</td>\n",
              "      <td>25000</td>\n",
              "      <td>0</td>\n",
              "    </tr>\n",
              "    <tr>\n",
              "      <th>83</th>\n",
              "      <td>28</td>\n",
              "      <td>89000</td>\n",
              "      <td>0</td>\n",
              "    </tr>\n",
              "    <tr>\n",
              "      <th>84</th>\n",
              "      <td>25</td>\n",
              "      <td>22000</td>\n",
              "      <td>0</td>\n",
              "    </tr>\n",
              "  </tbody>\n",
              "</table>\n",
              "</div>"
            ],
            "text/plain": [
              "    Age  EstimatedSalary  Purchased\n",
              "80   38            61000          0\n",
              "81   41            79000          0\n",
              "82   19            25000          0\n",
              "83   28            89000          0\n",
              "84   25            22000          0"
            ]
          },
          "metadata": {},
          "execution_count": 5
        }
      ]
    },
    {
      "cell_type": "code",
      "metadata": {
        "id": "0JrB7xkjoN5Z",
        "colab": {
          "base_uri": "https://localhost:8080/"
        },
        "outputId": "300b510e-b9c1-4e6a-8e21-678027728dd5"
      },
      "source": [
        "col = list(data.columns)\n",
        "X_tag = col[0:len(col)-1]\n",
        "y_tag = [col[len(col)-1]]\n",
        "y_tag"
      ],
      "execution_count": 6,
      "outputs": [
        {
          "output_type": "execute_result",
          "data": {
            "text/plain": [
              "['Purchased']"
            ]
          },
          "metadata": {},
          "execution_count": 6
        }
      ]
    },
    {
      "cell_type": "code",
      "metadata": {
        "colab": {
          "base_uri": "https://localhost:8080/",
          "height": 204
        },
        "id": "YwSBBkVwZq5i",
        "outputId": "530b0ec8-5741-488c-ece3-212516570f4a"
      },
      "source": [
        "norm_train_data = []\n",
        "norm_test_data = []\n",
        "for i in range(n_splits): \n",
        "  scaler = MinMaxScaler()\n",
        "  transformer = scaler.fit(train_data[i][X_tag])\n",
        "  Xtrain_temp = pd.DataFrame(transformer.transform(train_data[i][X_tag]), columns=train_data[i][X_tag].columns, index=train_data[i][X_tag].index) \n",
        "  Xtest_temp = pd.DataFrame(transformer.transform(test_data[i][X_tag]), columns=test_data[i][X_tag].columns, index=test_data[i][X_tag].index)\n",
        "  norm_train_data.append(Xtrain_temp)\n",
        "  norm_test_data.append(Xtest_temp)\n",
        "\n",
        "norm_train_data[0].head()"
      ],
      "execution_count": 7,
      "outputs": [
        {
          "output_type": "execute_result",
          "data": {
            "text/html": [
              "<div>\n",
              "<style scoped>\n",
              "    .dataframe tbody tr th:only-of-type {\n",
              "        vertical-align: middle;\n",
              "    }\n",
              "\n",
              "    .dataframe tbody tr th {\n",
              "        vertical-align: top;\n",
              "    }\n",
              "\n",
              "    .dataframe thead th {\n",
              "        text-align: right;\n",
              "    }\n",
              "</style>\n",
              "<table border=\"1\" class=\"dataframe\">\n",
              "  <thead>\n",
              "    <tr style=\"text-align: right;\">\n",
              "      <th></th>\n",
              "      <th>Age</th>\n",
              "      <th>EstimatedSalary</th>\n",
              "    </tr>\n",
              "  </thead>\n",
              "  <tbody>\n",
              "    <tr>\n",
              "      <th>80</th>\n",
              "      <td>0.476190</td>\n",
              "      <td>0.343284</td>\n",
              "    </tr>\n",
              "    <tr>\n",
              "      <th>81</th>\n",
              "      <td>0.547619</td>\n",
              "      <td>0.477612</td>\n",
              "    </tr>\n",
              "    <tr>\n",
              "      <th>82</th>\n",
              "      <td>0.023810</td>\n",
              "      <td>0.074627</td>\n",
              "    </tr>\n",
              "    <tr>\n",
              "      <th>83</th>\n",
              "      <td>0.238095</td>\n",
              "      <td>0.552239</td>\n",
              "    </tr>\n",
              "    <tr>\n",
              "      <th>84</th>\n",
              "      <td>0.166667</td>\n",
              "      <td>0.052239</td>\n",
              "    </tr>\n",
              "  </tbody>\n",
              "</table>\n",
              "</div>"
            ],
            "text/plain": [
              "         Age  EstimatedSalary\n",
              "80  0.476190         0.343284\n",
              "81  0.547619         0.477612\n",
              "82  0.023810         0.074627\n",
              "83  0.238095         0.552239\n",
              "84  0.166667         0.052239"
            ]
          },
          "metadata": {},
          "execution_count": 7
        }
      ]
    },
    {
      "cell_type": "markdown",
      "metadata": {
        "id": "_37bEqFSdxZA"
      },
      "source": [
        "##Step 4: Training and calculating accuracy"
      ]
    },
    {
      "cell_type": "code",
      "metadata": {
        "id": "stqYkj-SqxfH"
      },
      "source": [
        "def train_and_predict(norm_train_data, norm_test_data, train_data, n_splits, model):\n",
        "  y_predict = []\n",
        "  for i in range(n_splits):\n",
        "    y_pred = model.fit(norm_train_data[i], np.ravel(train_data[i][y_tag])).predict(norm_test_data[i])\n",
        "    y_predict.append(y_pred)\n",
        "  return y_predict"
      ],
      "execution_count": 8,
      "outputs": []
    },
    {
      "cell_type": "code",
      "metadata": {
        "id": "A-xTkzFKm5Kh"
      },
      "source": [
        "def accuracyCalc(y_predict, test_data, n_splits):\n",
        "  accuracy = 0\n",
        "  for i in range(n_splits):\n",
        "    y_test = np.ravel(test_data[i][y_tag])\n",
        "    acc = accuracy_score(y_test, y_predict[i])\n",
        "    accuracy += acc\n",
        "  accuracy = accuracy / n_splits * 100\n",
        "  return accuracy"
      ],
      "execution_count": 9,
      "outputs": []
    },
    {
      "cell_type": "code",
      "metadata": {
        "colab": {
          "base_uri": "https://localhost:8080/"
        },
        "id": "8020NtQEnA6v",
        "outputId": "7a32a589-5f84-46f7-f464-0a9390959e69"
      },
      "source": [
        "out = open('Accuracy.txt', 'w')\n",
        "out.write('The accuracy of: \\n')"
      ],
      "execution_count": 10,
      "outputs": [
        {
          "output_type": "execute_result",
          "data": {
            "text/plain": [
              "18"
            ]
          },
          "metadata": {},
          "execution_count": 10
        }
      ]
    },
    {
      "cell_type": "markdown",
      "metadata": {
        "id": "d5OfUK9biU_t"
      },
      "source": [
        "##a.Gaussian Naive Bayes"
      ]
    },
    {
      "cell_type": "code",
      "metadata": {
        "id": "57Gd10_piUWW",
        "colab": {
          "base_uri": "https://localhost:8080/"
        },
        "outputId": "8440ded9-d56c-421a-d211-fb087333243a"
      },
      "source": [
        "model = GaussianNB()\n",
        "y_predict = train_and_predict(norm_train_data, norm_test_data, train_data, n_splits, model)\n",
        "acc = accuracyCalc(y_predict, test_data, n_splits)\n",
        "out.write('+ Gaussian Naive Bayes: ' + str(acc) + '\\n')"
      ],
      "execution_count": 11,
      "outputs": [
        {
          "output_type": "execute_result",
          "data": {
            "text/plain": [
              "30"
            ]
          },
          "metadata": {},
          "execution_count": 11
        }
      ]
    },
    {
      "cell_type": "markdown",
      "metadata": {
        "id": "mnXDwdf_Y2zl"
      },
      "source": [
        "##b.Logistic Regression"
      ]
    },
    {
      "cell_type": "code",
      "metadata": {
        "colab": {
          "base_uri": "https://localhost:8080/"
        },
        "id": "F_8cgRxgbcLK",
        "outputId": "bfe6c742-fb67-4637-9d92-f89fb6bd9c19"
      },
      "source": [
        "model = LogisticRegression(random_state=0)\n",
        "y_predict = train_and_predict(norm_train_data, norm_test_data, train_data, n_splits, model)\n",
        "acc = accuracyCalc(y_predict, test_data, n_splits)\n",
        "out.write('+ Logistic Regression: ' + str(acc) + '\\n')"
      ],
      "execution_count": 12,
      "outputs": [
        {
          "output_type": "execute_result",
          "data": {
            "text/plain": [
              "28"
            ]
          },
          "metadata": {},
          "execution_count": 12
        }
      ]
    },
    {
      "cell_type": "markdown",
      "metadata": {
        "id": "_IKvjC77iYM7"
      },
      "source": [
        "##c.Support Vector Machine"
      ]
    },
    {
      "cell_type": "code",
      "metadata": {
        "colab": {
          "base_uri": "https://localhost:8080/"
        },
        "id": "x8jA-a_YicXv",
        "outputId": "82bef9c5-b2f4-418e-edc9-7695fe5f0546"
      },
      "source": [
        "model = svm.SVC()\n",
        "y_predict = train_and_predict(norm_train_data, norm_test_data, train_data, n_splits, model)\n",
        "acc = accuracyCalc(y_predict, test_data, n_splits)\n",
        "out.write('+ Support Vector Machine: ' + str(acc) + '\\n')"
      ],
      "execution_count": 13,
      "outputs": [
        {
          "output_type": "execute_result",
          "data": {
            "text/plain": [
              "44"
            ]
          },
          "metadata": {},
          "execution_count": 13
        }
      ]
    },
    {
      "cell_type": "markdown",
      "metadata": {
        "id": "76QffYHljn9y"
      },
      "source": [
        "##d.K-Nearest Neighbors"
      ]
    },
    {
      "cell_type": "code",
      "metadata": {
        "colab": {
          "base_uri": "https://localhost:8080/"
        },
        "id": "64YOtmoekMOW",
        "outputId": "2f5c4a6e-3536-43b7-fea9-76267be58b5c"
      },
      "source": [
        "model = KNeighborsClassifier(n_neighbors=3)\n",
        "y_predict = train_and_predict(norm_train_data, norm_test_data, train_data, n_splits, model)\n",
        "acc = accuracyCalc(y_predict, test_data, n_splits)\n",
        "out.write('+ K-Nearest Neighbors: ' + str(acc) + '\\n')"
      ],
      "execution_count": 14,
      "outputs": [
        {
          "output_type": "execute_result",
          "data": {
            "text/plain": [
              "41"
            ]
          },
          "metadata": {},
          "execution_count": 14
        }
      ]
    },
    {
      "cell_type": "markdown",
      "metadata": {
        "id": "EtBfoGgukmZO"
      },
      "source": [
        "##e.Decision Tree"
      ]
    },
    {
      "cell_type": "code",
      "metadata": {
        "colab": {
          "base_uri": "https://localhost:8080/"
        },
        "id": "-F1IQZJwk_Tt",
        "outputId": "a1dad838-4b84-40b3-c343-f5069cd4d49c"
      },
      "source": [
        "model = tree.DecisionTreeClassifier()\n",
        "y_predict = train_and_predict(norm_train_data, norm_test_data, train_data, n_splits, model)\n",
        "acc = accuracyCalc(y_predict, test_data, n_splits)\n",
        "out.write('+ Decision Tree: ' + str(acc) + '\\n')"
      ],
      "execution_count": 15,
      "outputs": [
        {
          "output_type": "execute_result",
          "data": {
            "text/plain": [
              "23"
            ]
          },
          "metadata": {},
          "execution_count": 15
        }
      ]
    },
    {
      "cell_type": "markdown",
      "metadata": {
        "id": "Y32uEckcln-T"
      },
      "source": [
        "##f.Random Forest"
      ]
    },
    {
      "cell_type": "code",
      "metadata": {
        "colab": {
          "base_uri": "https://localhost:8080/"
        },
        "id": "h5Qg02SOl_QK",
        "outputId": "4edff43e-66f9-4092-c8dd-94f4d70b0e1e"
      },
      "source": [
        "model = RandomForestClassifier(max_depth=2, random_state=0)\n",
        "y_predict = train_and_predict(norm_train_data, norm_test_data, train_data, n_splits, model)\n",
        "acc = accuracyCalc(y_predict, test_data, n_splits)\n",
        "out.write('+ Random Forest: ' + str(acc) + '\\n')"
      ],
      "execution_count": 16,
      "outputs": [
        {
          "output_type": "execute_result",
          "data": {
            "text/plain": [
              "23"
            ]
          },
          "metadata": {},
          "execution_count": 16
        }
      ]
    },
    {
      "cell_type": "code",
      "metadata": {
        "id": "C_o_-77roAzD"
      },
      "source": [
        "out.close()"
      ],
      "execution_count": 17,
      "outputs": []
    }
  ]
}