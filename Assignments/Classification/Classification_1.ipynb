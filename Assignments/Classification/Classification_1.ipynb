{
  "nbformat": 4,
  "nbformat_minor": 0,
  "metadata": {
    "colab": {
      "name": "Classification_1.ipynb",
      "provenance": [],
      "collapsed_sections": [],
      "authorship_tag": "ABX9TyMU4WyQv/NITwptcS/gnwww",
      "include_colab_link": true
    },
    "kernelspec": {
      "name": "python3",
      "display_name": "Python 3"
    },
    "language_info": {
      "name": "python"
    }
  },
  "cells": [
    {
      "cell_type": "markdown",
      "metadata": {
        "id": "view-in-github",
        "colab_type": "text"
      },
      "source": [
        "<a href=\"https://colab.research.google.com/github/MyPham1207/Python_for_ML/blob/main/Assignments/Classification/Classification_1.ipynb\" target=\"_parent\"><img src=\"https://colab.research.google.com/assets/colab-badge.svg\" alt=\"Open In Colab\"/></a>"
      ]
    },
    {
      "cell_type": "code",
      "metadata": {
        "colab": {
          "base_uri": "https://localhost:8080/"
        },
        "id": "kOtlTkMACUvu",
        "outputId": "66640c51-64ec-4260-e2da-713300254388"
      },
      "source": [
        "from google.colab import drive\n",
        "drive.mount('/content/drive', force_remount=True)\n",
        "\n",
        "import pandas as pd\n",
        "\n",
        "from sklearn.model_selection import KFold\n",
        "from sklearn.preprocessing import MinMaxScaler\n",
        "from sklearn.naive_bayes import GaussianNB\n",
        "from sklearn.linear_model import LogisticRegression\n",
        "from sklearn import svm\n",
        "from sklearn.neighbors import KNeighborsClassifier\n",
        "from sklearn import tree\n",
        "from sklearn.ensemble import RandomForestClassifier\n",
        "from sklearn.metrics import accuracy_score\n",
        "\n",
        "import numpy as np"
      ],
      "execution_count": null,
      "outputs": [
        {
          "output_type": "stream",
          "name": "stdout",
          "text": [
            "Mounted at /content/drive\n"
          ]
        }
      ]
    },
    {
      "cell_type": "code",
      "metadata": {
        "colab": {
          "base_uri": "https://localhost:8080/"
        },
        "id": "3fYTnqYaE90C",
        "outputId": "be582905-48db-4c47-dfcd-1edbafb7119a"
      },
      "source": [
        "cd '/content/drive/MyDrive/School/Python_for_ML/Assignment_6/Data'"
      ],
      "execution_count": null,
      "outputs": [
        {
          "output_type": "stream",
          "name": "stdout",
          "text": [
            "/content/drive/MyDrive/School/Python_for_ML/Assignment_6/Data\n"
          ]
        }
      ]
    },
    {
      "cell_type": "markdown",
      "metadata": {
        "id": "pWCBUPylDTzg"
      },
      "source": [
        "#1.Assignment 1"
      ]
    },
    {
      "cell_type": "markdown",
      "metadata": {
        "id": "Hr20UqlfwAVW"
      },
      "source": [
        "##Step 1: Load data"
      ]
    },
    {
      "cell_type": "code",
      "metadata": {
        "id": "QTfjP0_zCZiM",
        "colab": {
          "base_uri": "https://localhost:8080/",
          "height": 204
        },
        "outputId": "5da9eb03-05c9-4b08-d891-7102c9932f11"
      },
      "source": [
        "data = pd.read_csv('Social_Network_Ads.csv')\n",
        "# shuffle the data or else the data will be skewed\n",
        "data = data.sample(frac=1).reset_index(drop=True)\n",
        "data.head()"
      ],
      "execution_count": null,
      "outputs": [
        {
          "output_type": "execute_result",
          "data": {
            "text/html": [
              "<div>\n",
              "<style scoped>\n",
              "    .dataframe tbody tr th:only-of-type {\n",
              "        vertical-align: middle;\n",
              "    }\n",
              "\n",
              "    .dataframe tbody tr th {\n",
              "        vertical-align: top;\n",
              "    }\n",
              "\n",
              "    .dataframe thead th {\n",
              "        text-align: right;\n",
              "    }\n",
              "</style>\n",
              "<table border=\"1\" class=\"dataframe\">\n",
              "  <thead>\n",
              "    <tr style=\"text-align: right;\">\n",
              "      <th></th>\n",
              "      <th>Age</th>\n",
              "      <th>EstimatedSalary</th>\n",
              "      <th>Purchased</th>\n",
              "    </tr>\n",
              "  </thead>\n",
              "  <tbody>\n",
              "    <tr>\n",
              "      <th>0</th>\n",
              "      <td>38</td>\n",
              "      <td>51000</td>\n",
              "      <td>0</td>\n",
              "    </tr>\n",
              "    <tr>\n",
              "      <th>1</th>\n",
              "      <td>57</td>\n",
              "      <td>122000</td>\n",
              "      <td>1</td>\n",
              "    </tr>\n",
              "    <tr>\n",
              "      <th>2</th>\n",
              "      <td>60</td>\n",
              "      <td>42000</td>\n",
              "      <td>1</td>\n",
              "    </tr>\n",
              "    <tr>\n",
              "      <th>3</th>\n",
              "      <td>30</td>\n",
              "      <td>62000</td>\n",
              "      <td>0</td>\n",
              "    </tr>\n",
              "    <tr>\n",
              "      <th>4</th>\n",
              "      <td>51</td>\n",
              "      <td>134000</td>\n",
              "      <td>0</td>\n",
              "    </tr>\n",
              "  </tbody>\n",
              "</table>\n",
              "</div>"
            ],
            "text/plain": [
              "   Age  EstimatedSalary  Purchased\n",
              "0   38            51000          0\n",
              "1   57           122000          1\n",
              "2   60            42000          1\n",
              "3   30            62000          0\n",
              "4   51           134000          0"
            ]
          },
          "metadata": {},
          "execution_count": 3
        }
      ]
    },
    {
      "cell_type": "markdown",
      "metadata": {
        "id": "Qeh6Tq5eGVon"
      },
      "source": [
        "##Step 2: Split and normalize data"
      ]
    },
    {
      "cell_type": "code",
      "metadata": {
        "id": "cUyXmxuLGr1K"
      },
      "source": [
        "# Split the data\n",
        "n_splits = 5\n",
        "kf = KFold(n_splits)\n",
        "train_index = []\n",
        "test_index = []\n",
        "# train_index[0] will have value range from 80 -> 399, test_index[0] will have value range from 0 -> 79\n",
        "for train, test in kf.split(data):\n",
        "  train_index.append(train)\n",
        "  test_index.append(test)"
      ],
      "execution_count": null,
      "outputs": []
    },
    {
      "cell_type": "code",
      "metadata": {
        "colab": {
          "base_uri": "https://localhost:8080/",
          "height": 204
        },
        "id": "AAuyfiklVdQs",
        "outputId": "b3b4659f-d598-4cbd-89ad-5add9f3ed13f"
      },
      "source": [
        "train_data = []\n",
        "test_data = []\n",
        "for i in range(n_splits):\n",
        "  train_data.append(data.iloc[train_index[i]])\n",
        "  test_data.append(data.iloc[test_index[i]])\n",
        "\n",
        "train_data[0].head()"
      ],
      "execution_count": null,
      "outputs": [
        {
          "output_type": "execute_result",
          "data": {
            "text/html": [
              "<div>\n",
              "<style scoped>\n",
              "    .dataframe tbody tr th:only-of-type {\n",
              "        vertical-align: middle;\n",
              "    }\n",
              "\n",
              "    .dataframe tbody tr th {\n",
              "        vertical-align: top;\n",
              "    }\n",
              "\n",
              "    .dataframe thead th {\n",
              "        text-align: right;\n",
              "    }\n",
              "</style>\n",
              "<table border=\"1\" class=\"dataframe\">\n",
              "  <thead>\n",
              "    <tr style=\"text-align: right;\">\n",
              "      <th></th>\n",
              "      <th>Age</th>\n",
              "      <th>EstimatedSalary</th>\n",
              "      <th>Purchased</th>\n",
              "    </tr>\n",
              "  </thead>\n",
              "  <tbody>\n",
              "    <tr>\n",
              "      <th>80</th>\n",
              "      <td>25</td>\n",
              "      <td>22000</td>\n",
              "      <td>0</td>\n",
              "    </tr>\n",
              "    <tr>\n",
              "      <th>81</th>\n",
              "      <td>37</td>\n",
              "      <td>78000</td>\n",
              "      <td>1</td>\n",
              "    </tr>\n",
              "    <tr>\n",
              "      <th>82</th>\n",
              "      <td>39</td>\n",
              "      <td>71000</td>\n",
              "      <td>0</td>\n",
              "    </tr>\n",
              "    <tr>\n",
              "      <th>83</th>\n",
              "      <td>29</td>\n",
              "      <td>43000</td>\n",
              "      <td>0</td>\n",
              "    </tr>\n",
              "    <tr>\n",
              "      <th>84</th>\n",
              "      <td>37</td>\n",
              "      <td>74000</td>\n",
              "      <td>0</td>\n",
              "    </tr>\n",
              "  </tbody>\n",
              "</table>\n",
              "</div>"
            ],
            "text/plain": [
              "    Age  EstimatedSalary  Purchased\n",
              "80   25            22000          0\n",
              "81   37            78000          1\n",
              "82   39            71000          0\n",
              "83   29            43000          0\n",
              "84   37            74000          0"
            ]
          },
          "metadata": {},
          "execution_count": 5
        }
      ]
    },
    {
      "cell_type": "code",
      "metadata": {
        "colab": {
          "base_uri": "https://localhost:8080/",
          "height": 204
        },
        "id": "YwSBBkVwZq5i",
        "outputId": "00840194-1f59-44c9-a9fc-2edc6b00fcc9"
      },
      "source": [
        "norm_train_data = []\n",
        "norm_test_data = []\n",
        "for i in range(n_splits): \n",
        "  scaler = MinMaxScaler()\n",
        "  transformer = scaler.fit(train_data[i])\n",
        "  train_temp = pd.DataFrame(transformer.transform(train_data[i]), columns=train_data[i].columns, index=train_data[i].index) \n",
        "  test_temp = pd.DataFrame(transformer.transform(test_data[i]), columns=test_data[i].columns, index=test_data[i].index)\n",
        "  norm_train_data.append(train_temp)\n",
        "  norm_test_data.append(train_temp)\n",
        "\n",
        "norm_train_data[0].head()"
      ],
      "execution_count": null,
      "outputs": [
        {
          "output_type": "execute_result",
          "data": {
            "text/html": [
              "<div>\n",
              "<style scoped>\n",
              "    .dataframe tbody tr th:only-of-type {\n",
              "        vertical-align: middle;\n",
              "    }\n",
              "\n",
              "    .dataframe tbody tr th {\n",
              "        vertical-align: top;\n",
              "    }\n",
              "\n",
              "    .dataframe thead th {\n",
              "        text-align: right;\n",
              "    }\n",
              "</style>\n",
              "<table border=\"1\" class=\"dataframe\">\n",
              "  <thead>\n",
              "    <tr style=\"text-align: right;\">\n",
              "      <th></th>\n",
              "      <th>Age</th>\n",
              "      <th>EstimatedSalary</th>\n",
              "      <th>Purchased</th>\n",
              "    </tr>\n",
              "  </thead>\n",
              "  <tbody>\n",
              "    <tr>\n",
              "      <th>80</th>\n",
              "      <td>0.166667</td>\n",
              "      <td>0.051852</td>\n",
              "      <td>0.0</td>\n",
              "    </tr>\n",
              "    <tr>\n",
              "      <th>81</th>\n",
              "      <td>0.452381</td>\n",
              "      <td>0.466667</td>\n",
              "      <td>1.0</td>\n",
              "    </tr>\n",
              "    <tr>\n",
              "      <th>82</th>\n",
              "      <td>0.500000</td>\n",
              "      <td>0.414815</td>\n",
              "      <td>0.0</td>\n",
              "    </tr>\n",
              "    <tr>\n",
              "      <th>83</th>\n",
              "      <td>0.261905</td>\n",
              "      <td>0.207407</td>\n",
              "      <td>0.0</td>\n",
              "    </tr>\n",
              "    <tr>\n",
              "      <th>84</th>\n",
              "      <td>0.452381</td>\n",
              "      <td>0.437037</td>\n",
              "      <td>0.0</td>\n",
              "    </tr>\n",
              "  </tbody>\n",
              "</table>\n",
              "</div>"
            ],
            "text/plain": [
              "         Age  EstimatedSalary  Purchased\n",
              "80  0.166667         0.051852        0.0\n",
              "81  0.452381         0.466667        1.0\n",
              "82  0.500000         0.414815        0.0\n",
              "83  0.261905         0.207407        0.0\n",
              "84  0.452381         0.437037        0.0"
            ]
          },
          "metadata": {},
          "execution_count": 6
        }
      ]
    },
    {
      "cell_type": "markdown",
      "metadata": {
        "id": "_37bEqFSdxZA"
      },
      "source": [
        "##Step 4: Training and calculating accuracy"
      ]
    },
    {
      "cell_type": "code",
      "metadata": {
        "id": "0JrB7xkjoN5Z",
        "colab": {
          "base_uri": "https://localhost:8080/"
        },
        "outputId": "9c3a37bf-30a9-408a-ca36-ebf750efbb21"
      },
      "source": [
        "col = list(data.columns)\n",
        "X_tag = col[0:len(col)-1]\n",
        "y_tag = [col[len(col)-1]]\n",
        "y_tag"
      ],
      "execution_count": null,
      "outputs": [
        {
          "output_type": "execute_result",
          "data": {
            "text/plain": [
              "['Purchased']"
            ]
          },
          "metadata": {},
          "execution_count": 7
        }
      ]
    },
    {
      "cell_type": "code",
      "metadata": {
        "id": "stqYkj-SqxfH"
      },
      "source": [
        "def train_and_predict(norm_train_data, norm_test_data, n_splits, model):\n",
        "  y_predict = []\n",
        "  for i in range(n_splits):\n",
        "    y_pred = model.fit(norm_train_data[i][X_tag], np.ravel(norm_train_data[i][y_tag])).predict(norm_test_data[i][X_tag])\n",
        "    y_predict.append(y_pred)\n",
        "  return y_predict"
      ],
      "execution_count": null,
      "outputs": []
    },
    {
      "cell_type": "code",
      "metadata": {
        "id": "A-xTkzFKm5Kh"
      },
      "source": [
        "def accuracyCalc(y_predict, norm_test_data, n_splits):\n",
        "  accuracy = 0\n",
        "  for i in range(n_splits):\n",
        "    y_test = np.ravel(norm_test_data[i][y_tag])\n",
        "    acc = accuracy_score(y_test, y_predict[i])\n",
        "    accuracy += acc\n",
        "  accuracy = accuracy / n_splits * 100\n",
        "  return accuracy"
      ],
      "execution_count": null,
      "outputs": []
    },
    {
      "cell_type": "code",
      "metadata": {
        "colab": {
          "base_uri": "https://localhost:8080/"
        },
        "id": "8020NtQEnA6v",
        "outputId": "5f1e8745-81f2-4790-b3ef-b52e2162aecb"
      },
      "source": [
        "out = open('Accuracy.txt', 'w')\n",
        "out.write('The accuracy of: \\n')"
      ],
      "execution_count": null,
      "outputs": [
        {
          "output_type": "execute_result",
          "data": {
            "text/plain": [
              "18"
            ]
          },
          "metadata": {},
          "execution_count": 10
        }
      ]
    },
    {
      "cell_type": "markdown",
      "metadata": {
        "id": "d5OfUK9biU_t"
      },
      "source": [
        "###a.Gaussian Naive Bayes"
      ]
    },
    {
      "cell_type": "code",
      "metadata": {
        "id": "57Gd10_piUWW",
        "colab": {
          "base_uri": "https://localhost:8080/"
        },
        "outputId": "f3615a85-cc61-4fba-e6ef-3e9bb9dc0262"
      },
      "source": [
        "model = GaussianNB()\n",
        "y_predict = train_and_predict(norm_train_data, norm_test_data, n_splits, model)\n",
        "acc = accuracyCalc(y_predict, norm_test_data, n_splits)\n",
        "out.write('+ Gaussian Naive Bayes: ' + str(acc) + '\\n')"
      ],
      "execution_count": null,
      "outputs": [
        {
          "output_type": "execute_result",
          "data": {
            "text/plain": [
              "29"
            ]
          },
          "metadata": {},
          "execution_count": 11
        }
      ]
    },
    {
      "cell_type": "markdown",
      "metadata": {
        "id": "mnXDwdf_Y2zl"
      },
      "source": [
        "##b.Logistic Regression"
      ]
    },
    {
      "cell_type": "code",
      "metadata": {
        "colab": {
          "base_uri": "https://localhost:8080/"
        },
        "id": "F_8cgRxgbcLK",
        "outputId": "bdaaad50-d10a-41e9-e081-685fd119497d"
      },
      "source": [
        "model = LogisticRegression(random_state=0)\n",
        "y_predict = train_and_predict(norm_train_data, norm_test_data, n_splits, model)\n",
        "acc = accuracyCalc(y_predict, norm_test_data, n_splits)\n",
        "out.write('+ Logistic Regression: ' + str(acc) + '\\n')"
      ],
      "execution_count": null,
      "outputs": [
        {
          "output_type": "execute_result",
          "data": {
            "text/plain": [
              "31"
            ]
          },
          "metadata": {},
          "execution_count": 12
        }
      ]
    },
    {
      "cell_type": "markdown",
      "metadata": {
        "id": "_IKvjC77iYM7"
      },
      "source": [
        "##c.Support Vector Machine"
      ]
    },
    {
      "cell_type": "code",
      "metadata": {
        "colab": {
          "base_uri": "https://localhost:8080/"
        },
        "id": "x8jA-a_YicXv",
        "outputId": "49bee653-d7ad-4385-dec8-71c22d832936"
      },
      "source": [
        "model = svm.SVC()\n",
        "y_predict = train_and_predict(norm_train_data, norm_test_data, n_splits, model)\n",
        "acc = accuracyCalc(y_predict, norm_test_data, n_splits)\n",
        "out.write('+ Support Vector Machine: ' + str(acc) + '\\n')"
      ],
      "execution_count": null,
      "outputs": [
        {
          "output_type": "execute_result",
          "data": {
            "text/plain": [
              "44"
            ]
          },
          "metadata": {},
          "execution_count": 13
        }
      ]
    },
    {
      "cell_type": "markdown",
      "metadata": {
        "id": "76QffYHljn9y"
      },
      "source": [
        "##d.K-Nearest Neighbors"
      ]
    },
    {
      "cell_type": "code",
      "metadata": {
        "colab": {
          "base_uri": "https://localhost:8080/"
        },
        "id": "64YOtmoekMOW",
        "outputId": "dcb65da1-ca38-41bd-f634-7944d1043bb6"
      },
      "source": [
        "model = KNeighborsClassifier(n_neighbors=3)\n",
        "y_predict = train_and_predict(norm_train_data, norm_test_data, n_splits, model)\n",
        "acc = accuracyCalc(y_predict, norm_test_data, n_splits)\n",
        "out.write('+ K-Nearest Neighbors: ' + str(acc) + '\\n')"
      ],
      "execution_count": null,
      "outputs": [
        {
          "output_type": "execute_result",
          "data": {
            "text/plain": [
              "31"
            ]
          },
          "metadata": {},
          "execution_count": 14
        }
      ]
    },
    {
      "cell_type": "markdown",
      "metadata": {
        "id": "EtBfoGgukmZO"
      },
      "source": [
        "##e.Decision Tree"
      ]
    },
    {
      "cell_type": "code",
      "metadata": {
        "colab": {
          "base_uri": "https://localhost:8080/"
        },
        "id": "-F1IQZJwk_Tt",
        "outputId": "cf0c25b3-ae0c-4682-e355-65b2cc91d2ad"
      },
      "source": [
        "model = tree.DecisionTreeClassifier()\n",
        "y_predict = train_and_predict(norm_train_data, norm_test_data, n_splits, model)\n",
        "acc = accuracyCalc(y_predict, norm_test_data, n_splits)\n",
        "out.write('+ Decision Tree: ' + str(acc) + '\\n')"
      ],
      "execution_count": null,
      "outputs": [
        {
          "output_type": "execute_result",
          "data": {
            "text/plain": [
              "35"
            ]
          },
          "metadata": {},
          "execution_count": 15
        }
      ]
    },
    {
      "cell_type": "markdown",
      "metadata": {
        "id": "Y32uEckcln-T"
      },
      "source": [
        "##f.Random Forest"
      ]
    },
    {
      "cell_type": "code",
      "metadata": {
        "colab": {
          "base_uri": "https://localhost:8080/"
        },
        "id": "h5Qg02SOl_QK",
        "outputId": "eabb9ba9-929f-4293-95d2-e75388e33a69"
      },
      "source": [
        "model = RandomForestClassifier(max_depth=2, random_state=0)\n",
        "y_predict = train_and_predict(norm_train_data, norm_test_data, n_splits, model)\n",
        "acc = accuracyCalc(y_predict, norm_test_data, n_splits)\n",
        "out.write('+ Random Forest: ' + str(acc) + '\\n')"
      ],
      "execution_count": null,
      "outputs": [
        {
          "output_type": "execute_result",
          "data": {
            "text/plain": [
              "24"
            ]
          },
          "metadata": {},
          "execution_count": 16
        }
      ]
    },
    {
      "cell_type": "code",
      "metadata": {
        "id": "C_o_-77roAzD"
      },
      "source": [
        "out.close()"
      ],
      "execution_count": null,
      "outputs": []
    }
  ]
}