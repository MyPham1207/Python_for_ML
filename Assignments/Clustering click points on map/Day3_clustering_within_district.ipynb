{
  "nbformat": 4,
  "nbformat_minor": 0,
  "metadata": {
    "colab": {
      "name": "Day3_clustering_within_district.ipynb",
      "provenance": [],
      "collapsed_sections": [
        "s0LqPiwZ2tQL"
      ],
      "authorship_tag": "ABX9TyObaf+C3pozE04fP22Mm9aB",
      "include_colab_link": true
    },
    "kernelspec": {
      "display_name": "Python 3",
      "name": "python3"
    },
    "language_info": {
      "name": "python"
    }
  },
  "cells": [
    {
      "cell_type": "markdown",
      "metadata": {
        "id": "view-in-github",
        "colab_type": "text"
      },
      "source": [
        "<a href=\"https://colab.research.google.com/github/MyPham1207/Python_for_ML/blob/main/Assignments/Clustering%20click%20points%20on%20map/Day3_clustering_within_district.ipynb\" target=\"_parent\"><img src=\"https://colab.research.google.com/assets/colab-badge.svg\" alt=\"Open In Colab\"/></a>"
      ]
    },
    {
      "cell_type": "markdown",
      "metadata": {
        "id": "QwD0DVuk2WbX"
      },
      "source": [
        "#1.Load libraries\n"
      ]
    },
    {
      "cell_type": "code",
      "metadata": {
        "id": "kMFnu43QAsoi"
      },
      "source": [
        "!pip install --upgrade pip\n",
        "!pip install --upgrade numpy"
      ],
      "execution_count": null,
      "outputs": []
    },
    {
      "cell_type": "code",
      "metadata": {
        "id": "SHVEjZVbjrqU"
      },
      "source": [
        "!pip install osmnet\n",
        "!pip install matplotlib==3.1.3\n",
        "!pip install osmnet\n",
        "!pip install pandana\n",
        "!pip install folium\n",
        "!pip install rtree\n",
        "!pip install pygeos"
      ],
      "execution_count": null,
      "outputs": []
    },
    {
      "cell_type": "code",
      "metadata": {
        "id": "G77T2WlKkF5d"
      },
      "source": [
        "import folium\n",
        "from folium import plugins\n",
        "\n",
        "from google.colab import drive\n",
        "drive.mount('/content/drive', force_remount=True)\n",
        "\n",
        "import json\n",
        "import requests\n",
        "\n",
        "from sklearn.cluster import KMeans\n",
        "from sklearn.decomposition import PCA\n",
        "\n",
        "import matplotlib.pyplot as plt\n",
        "import matplotlib.cm as cm\n",
        "import matplotlib.colors as colors\n",
        "\n",
        "import numpy as np\n",
        "import pandas as pd\n",
        "from pandas.io.json import json_normalize\n",
        "\n",
        "from geopandas.tools import sjoin\n",
        "import geopandas"
      ],
      "execution_count": null,
      "outputs": []
    },
    {
      "cell_type": "markdown",
      "metadata": {
        "id": "9xoFP5I52lfb"
      },
      "source": [
        "#2.Load data"
      ]
    },
    {
      "cell_type": "code",
      "metadata": {
        "id": "eY2pP73TlVzK"
      },
      "source": [
        "%cd drive/My Drive/Python_for_ML/Assignment_2"
      ],
      "execution_count": null,
      "outputs": []
    },
    {
      "cell_type": "code",
      "metadata": {
        "id": "gNstBEmboCiI"
      },
      "source": [
        "! git clone https://github.com/CityScope/CSL_HCMC"
      ],
      "execution_count": null,
      "outputs": []
    },
    {
      "cell_type": "markdown",
      "metadata": {
        "id": "s0LqPiwZ2tQL"
      },
      "source": [
        "##2.1.Load top 5 pop_increase district"
      ]
    },
    {
      "cell_type": "code",
      "metadata": {
        "id": "397WMgG0obvb"
      },
      "source": [
        "district = geopandas.read_file('CSL_HCMC/Data/GIS/Population/population_HCMC/population_shapefile/Population_District_Level.shp')\n",
        "district"
      ],
      "execution_count": null,
      "outputs": []
    },
    {
      "cell_type": "code",
      "metadata": {
        "id": "I5rZxyAYsbMc"
      },
      "source": [
        "district = district.to_crs(\"EPSG:3857\")"
      ],
      "execution_count": null,
      "outputs": []
    },
    {
      "cell_type": "code",
      "metadata": {
        "id": "0hfR9kUIsh-Z"
      },
      "source": [
        "district_top5 = district[['Dist_Name']]\n",
        "district_top5['pop_increase'] = (district['Pop_2019']/district['Pop_2017']).to_frame()\n",
        "district_top5 = district_top5.nlargest(5, 'pop_increase')\n",
        "district_top5"
      ],
      "execution_count": null,
      "outputs": []
    },
    {
      "cell_type": "code",
      "metadata": {
        "id": "47ji-J6zwtV_"
      },
      "source": [
        "district = district[district['Dist_Name'].isin(district_top5['Dist_Name'])]\n",
        "district"
      ],
      "execution_count": null,
      "outputs": []
    },
    {
      "cell_type": "markdown",
      "metadata": {
        "id": "Agjd3ksx2-D_"
      },
      "source": [
        "##2.2.Load click data"
      ]
    },
    {
      "cell_type": "code",
      "metadata": {
        "id": "YRu34YFM6nmK"
      },
      "source": [
        "hits = geopandas.read_file('/content/drive/MyDrive/Python_for_ML/Assignment_1/Data/response.json')\n",
        "hits = hits.to_crs('epsg:3857')\n",
        "hits"
      ],
      "execution_count": null,
      "outputs": []
    },
    {
      "cell_type": "code",
      "metadata": {
        "id": "5nzfLzLnxnNc"
      },
      "source": [
        "click_data = geopandas.sjoin(hits, district, op='within')\n",
        "click_data"
      ],
      "execution_count": null,
      "outputs": []
    },
    {
      "cell_type": "markdown",
      "metadata": {
        "id": "D05nXKlkB6vc"
      },
      "source": [
        "#3.KMeans clustering"
      ]
    },
    {
      "cell_type": "code",
      "metadata": {
        "id": "D2Ui-FZvCwxy"
      },
      "source": [
        "#Take coordination of click_data\n",
        "click_data[\"longitude\"] = click_data.geometry.map(lambda p: p.x)\n",
        "click_data[\"latitude\"] = click_data.geometry.map(lambda p: p.y)\n",
        "click_points = click_data[['latitude', 'longitude', 'Dist_Name']]\n",
        "click_points.groupby(by='Dist_Name')\n",
        "click_points"
      ],
      "execution_count": null,
      "outputs": []
    },
    {
      "cell_type": "code",
      "metadata": {
        "id": "0cOHzXg9lwvp"
      },
      "source": [
        "top5_district = list(set(click_points['Dist_Name']))\n",
        "top5_district"
      ],
      "execution_count": null,
      "outputs": []
    },
    {
      "cell_type": "code",
      "metadata": {
        "id": "BjWhgLpariQW"
      },
      "source": [
        "click_points['Dist_Name'].value_counts()"
      ],
      "execution_count": null,
      "outputs": []
    },
    {
      "cell_type": "markdown",
      "metadata": {
        "id": "baSOAXPaCLy-"
      },
      "source": [
        "##3.1.Use Elbow method to choose k"
      ]
    },
    {
      "cell_type": "code",
      "metadata": {
        "id": "IU1MmoxBnIvx"
      },
      "source": [
        "def elbowMethod(data):\n",
        "  distortions = []\n",
        "  K = range(20, 100, 10)\n",
        "  for k in K:\n",
        "    kmean = KMeans(n_clusters=k, random_state=42).fit(data)\n",
        "    distortions.append(kmean.inertia_)\n",
        "  plt.plot(K, distortions, 'bx-')\n",
        "  plt.xlabel('k')\n",
        "  plt.ylabel('Distortion')\n",
        "  plt.title('The Elbow Method')\n",
        "  plt.show()"
      ],
      "execution_count": null,
      "outputs": []
    },
    {
      "cell_type": "code",
      "metadata": {
        "id": "Z4gmsW_woA5W"
      },
      "source": [
        "for dist in top5_district:\n",
        "  temp = click_points[click_points['Dist_Name'] == dist]\n",
        "  elbowMethod(temp[['latitude', 'longitude']])"
      ],
      "execution_count": null,
      "outputs": []
    },
    {
      "cell_type": "code",
      "metadata": {
        "id": "B53w77mvt39w"
      },
      "source": [
        "K = [50, 60, 50, 60, 60]#base on plot above\n",
        "#teacher give K=30 so n_clusters for all district = 30\n",
        "points = geopandas.GeoDataFrame()\n",
        "center = []\n",
        "for i in range(0, 5):\n",
        "  #KMeans clustering for each district\n",
        "  temp = click_points[click_points['Dist_Name'] == top5_district[i]]\n",
        "  k_means = KMeans(n_clusters=30, random_state=42).fit(temp[['latitude', 'longitude']])\n",
        "  temp['cluster'] = k_means.labels_\n",
        "\n",
        "  #find largest cluster\n",
        "  number_of_occurences = pd.DataFrame(temp['cluster'].value_counts())\n",
        "  number_of_occurences.reset_index(inplace=True)\n",
        "  number_of_occurences.columns = ['Cluster', 'Count']\n",
        "  top = number_of_occurences['Cluster'][0]\n",
        "  center.append(list(k_means.cluster_centers_[top]))\n",
        "  temp = temp[temp['cluster'] == top]\n",
        "\n",
        "  points = pd.concat([points, temp])\n",
        "\n",
        "center"
      ],
      "execution_count": null,
      "outputs": []
    },
    {
      "cell_type": "markdown",
      "metadata": {
        "id": "_8zAzeTUEKn_"
      },
      "source": [
        "#4.Heat map"
      ]
    },
    {
      "cell_type": "code",
      "metadata": {
        "id": "q7Qcc4JhUKdg"
      },
      "source": [
        "gdf = geopandas.points_from_xy(points.longitude, points.latitude, crs=\"EPSG:3857\")\n",
        "gdf = gdf.to_crs(epsg=4326)\n",
        "points['geometry'] = gdf\n",
        "geo_df_list = [[point.xy[1][0], point.xy[0][0]] for point in points.geometry ]\n",
        "geo_df_list"
      ],
      "execution_count": null,
      "outputs": []
    },
    {
      "cell_type": "code",
      "metadata": {
        "id": "nck8Q1DnWtVy"
      },
      "source": [
        "centroid = geopandas.points_from_xy([row[1] for row in center], [row[0] for row in center], crs=\"EPSG:3857\")\n",
        "centroid = centroid.to_crs(epsg=4326)\n",
        "centroid = [[point.xy[1][0], point.xy[0][0]] for point in centroid ]\n",
        "centroid"
      ],
      "execution_count": null,
      "outputs": []
    },
    {
      "cell_type": "code",
      "metadata": {
        "id": "qbj1Bfx9h-Lr"
      },
      "source": [
        "colors = ['red', 'darkblue', 'black', 'green', 'purple']"
      ],
      "execution_count": null,
      "outputs": []
    },
    {
      "cell_type": "code",
      "metadata": {
        "id": "EeLnL5mv4WHd"
      },
      "source": [
        "map = folium.Map(location = geo_df_list[0], zoom_start = 12)\n",
        "plugins.HeatMap(geo_df_list).add_to(map)\n",
        "for i in range(5):\n",
        "  folium.Marker(centroid[i],icon=folium.Icon(color=colors[i])).add_to(map)\n",
        "map"
      ],
      "execution_count": null,
      "outputs": []
    }
  ]
}